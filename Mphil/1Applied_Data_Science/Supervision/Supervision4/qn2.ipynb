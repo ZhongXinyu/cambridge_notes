{
 "cells": [
  {
   "cell_type": "markdown",
   "metadata": {},
   "source": [
    "In this question, we will perform vector quantisation on an image using $k$-means, Break the image inoorelib-gray.png into $8 \\times 8$ pixel squares and convert this into $64-$ dimension vectors."
   ]
  },
  {
   "cell_type": "code",
   "execution_count": 1,
   "metadata": {},
   "outputs": [],
   "source": [
    "import numpy as np\n",
    "from PIL import Image\n",
    "\n",
    "def image_to_vectors(image_path):\n",
    "    # Open the image\n",
    "    img = Image.open(image_path)\n",
    "\n",
    "    # Convert the image to grayscale if it's in color\n",
    "    img = img.convert('L')\n",
    "\n",
    "    # Get the image data as a NumPy array\n",
    "    img_array = np.array(img)\n",
    "\n",
    "    print (img_array.shape)\n",
    "\n",
    "    # Get the dimensions of the image\n",
    "    height, width = img_array.shape\n",
    "\n",
    "    # Initialize an empty list to store the vectors\n",
    "    vectors = []\n",
    "\n",
    "    # Break the image into 8x8 pixel squares and convert each square into a vector\n",
    "    for i in range(0, height, 8):\n",
    "        for j in range(0, width, 8):\n",
    "            square = img_array[i:i+8, j:j+8].flatten()\n",
    "            vectors.append(square)\n",
    "\n",
    "    # Convert the list of vectors to a NumPy array\n",
    "    vectors_array = np.array(vectors)\n",
    "\n",
    "    return vectors_array\n",
    "\n"
   ]
  },
  {
   "cell_type": "code",
   "execution_count": 2,
   "metadata": {},
   "outputs": [],
   "source": [
    "def vectors_to_image (vectors_array):\n",
    "    # Get the dimensions of the image\n",
    "    height, width = 576, 768\n",
    "\n",
    "    # Initialize a NumPy array to store the image\n",
    "    img_array = np.zeros((height, width), dtype=np.uint8)\n",
    "\n",
    "    # Get the number of vectors\n",
    "    num_vectors = vectors_array.shape[0]\n",
    "\n",
    "    # Break the vectors into 8x8 pixel squares and insert them into the image array\n",
    "    for i in range(0, height, 8):\n",
    "        for j in range(0, width, 8):\n",
    "\n",
    "            img_array[i:i+8, j:j+8] = vectors_array[i//8*width//8+j//8].reshape((8, 8))\n",
    "\n",
    "    # Create a new image from the NumPy array\n",
    "    img = Image.fromarray(img_array, 'L')\n",
    "\n",
    "    # Show the image\n",
    "    img.show()"
   ]
  },
  {
   "cell_type": "code",
   "execution_count": 3,
   "metadata": {},
   "outputs": [
    {
     "name": "stdout",
     "output_type": "stream",
     "text": [
      "(576, 768)\n",
      "(6912, 64)\n"
     ]
    }
   ],
   "source": [
    "# Example usage\n",
    "image_path = 'moorelib-gray.png'\n",
    "vectors = image_to_vectors(image_path)\n",
    "\n",
    "\n",
    "vectors_to_image(vectors)\n",
    "print (vectors.shape)"
   ]
  },
  {
   "cell_type": "markdown",
   "metadata": {},
   "source": [
    "a. Cluster the resulting set of vectors using $k$-means, "
   ]
  },
  {
   "cell_type": "code",
   "execution_count": 13,
   "metadata": {},
   "outputs": [
    {
     "name": "stderr",
     "output_type": "stream",
     "text": [
      "/Users/zhongjunbao/miniconda3/envs/mphil/lib/python3.9/site-packages/sklearn/cluster/_kmeans.py:1412: FutureWarning: The default value of `n_init` will change from 10 to 'auto' in 1.4. Set the value of `n_init` explicitly to suppress the warning\n",
      "  super()._check_params_vs_input(X, default_n_init=10)\n",
      "/Users/zhongjunbao/miniconda3/envs/mphil/lib/python3.9/site-packages/sklearn/cluster/_kmeans.py:1412: FutureWarning: The default value of `n_init` will change from 10 to 'auto' in 1.4. Set the value of `n_init` explicitly to suppress the warning\n",
      "  super()._check_params_vs_input(X, default_n_init=10)\n"
     ]
    },
    {
     "name": "stdout",
     "output_type": "stream",
     "text": [
      "[ 3  3 18 ...  8  8  8]\n"
     ]
    }
   ],
   "source": [
    "from sklearn.cluster import KMeans\n",
    "\n",
    "kmeans = KMeans(n_clusters= 20, random_state=0).fit(vectors)\n",
    "kmeans.fit(vectors)\n",
    "\n",
    "print (kmeans.labels_)"
   ]
  },
  {
   "cell_type": "markdown",
   "metadata": {},
   "source": [
    "b. What do the cluster centroids look like? "
   ]
  },
  {
   "cell_type": "code",
   "execution_count": 14,
   "metadata": {},
   "outputs": [
    {
     "name": "stdout",
     "output_type": "stream",
     "text": [
      "[[166.29347826 166.66304348 166.42885375 ... 165.24407115 165.79347826\n",
      "  165.64031621]\n",
      " [ 45.00898204  43.27245509  42.73353293 ...  43.3742515   43.0988024\n",
      "   45.14371257]\n",
      " [230.31020408 236.02040816 237.22040816 ... 235.93061224 236.34285714\n",
      "  233.81632653]\n",
      " ...\n",
      " [109.36363636 111.53409091 108.40909091 ... 231.38636364 230.77272727\n",
      "  230.11363636]\n",
      " [209.65769231 211.22115385 210.86923077 ... 208.59423077 208.55384615\n",
      "  208.37115385]\n",
      " [ 71.72144847  71.79108635  72.23955432 ...  72.90807799  73.94986072\n",
      "   73.34261838]]\n"
     ]
    }
   ],
   "source": [
    "print (kmeans.cluster_centers_)"
   ]
  },
  {
   "cell_type": "markdown",
   "metadata": {},
   "source": [
    "c. Can you use this for image compression (i.e. can you reconstruct the originat image using only the cluster centroids)?"
   ]
  },
  {
   "cell_type": "code",
   "execution_count": 15,
   "metadata": {},
   "outputs": [],
   "source": [
    "# recreate the vector array with the cluster centers\n",
    "new_vectors = kmeans.cluster_centers_[kmeans.labels_]\n",
    "\n",
    "vectors_to_image(new_vectors)"
   ]
  },
  {
   "cell_type": "code",
   "execution_count": 16,
   "metadata": {},
   "outputs": [
    {
     "name": "stdout",
     "output_type": "stream",
     "text": [
      "1280\n",
      "6912\n"
     ]
    }
   ],
   "source": [
    "print (np.product((kmeans.cluster_centers_.shape)))\n",
    "print (len(kmeans.labels_))"
   ]
  },
  {
   "cell_type": "code",
   "execution_count": 8,
   "metadata": {},
   "outputs": [
    {
     "name": "stdout",
     "output_type": "stream",
     "text": [
      "total information: 442368\n"
     ]
    }
   ],
   "source": [
    "print (\"total information:\", np.product(vectors.shape))"
   ]
  },
  {
   "cell_type": "code",
   "execution_count": 17,
   "metadata": {},
   "outputs": [
    {
     "name": "stdout",
     "output_type": "stream",
     "text": [
      "total information: 8192\n",
      "total information: 6912\n"
     ]
    }
   ],
   "source": [
    "print (\"total information:\",(len(kmeans.labels_) +  np.product(kmeans.cluster_centers_.shape)))\n",
    "print (\"total information:\",(len(kmeans.labels_)))\n"
   ]
  },
  {
   "cell_type": "code",
   "execution_count": 18,
   "metadata": {},
   "outputs": [
    {
     "data": {
      "text/plain": [
       "6912.0"
      ]
     },
     "execution_count": 18,
     "metadata": {},
     "output_type": "execute_result"
    }
   ],
   "source": [
    "442368/64"
   ]
  }
 ],
 "metadata": {
  "kernelspec": {
   "display_name": "mphil",
   "language": "python",
   "name": "python3"
  },
  "language_info": {
   "codemirror_mode": {
    "name": "ipython",
    "version": 3
   },
   "file_extension": ".py",
   "mimetype": "text/x-python",
   "name": "python",
   "nbconvert_exporter": "python",
   "pygments_lexer": "ipython3",
   "version": "3.9.18"
  }
 },
 "nbformat": 4,
 "nbformat_minor": 2
}
