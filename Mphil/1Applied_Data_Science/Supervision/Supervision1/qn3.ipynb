{
 "cells": [
  {
   "cell_type": "markdown",
   "metadata": {},
   "source": [
    "#### 3.*** Cross-validation\n",
    "\n",
    "Write code (R, Python) to assess the usefulness of cross-validation.\n",
    "\n",
    "The inputs comprise a vector of values {1,2, 3, …, 100}, a function f and CV option\n",
    "\n",
    "CV options include: random splitting, LOOCV, k-fold CV\n",
    "\n",
    "The function f can be linear, quadratic, polynomial, logarithmic, exponential."
   ]
  },
  {
   "cell_type": "markdown",
   "metadata": {},
   "source": [
    "k-fold CV make sure that every data point is being used for validation exactly once."
   ]
  },
  {
   "cell_type": "code",
   "execution_count": 26,
   "metadata": {},
   "outputs": [],
   "source": [
    "import pandas as pd\n",
    "import numpy as np\n",
    "import matplotlib.pyplot as plt"
   ]
  },
  {
   "cell_type": "code",
   "execution_count": 27,
   "metadata": {},
   "outputs": [],
   "source": [
    "size = 100\n",
    "linear_function = lambda x: 2*x + 1\n",
    "quadratic_function = lambda x: x**2 + 5 * x + 9\n",
    "polynomial_function = lambda x: x**3 + 5 * x**2 - 3 * x + 11\n",
    "log_function = lambda x: np.log(x + 1)\n",
    "exp_function = lambda x: np.exp(x / 10)\n",
    "noise = lambda: [np.random.normal(0,0.1) for _ in range(size)]"
   ]
  },
  {
   "cell_type": "code",
   "execution_count": 28,
   "metadata": {},
   "outputs": [],
   "source": [
    "my_x = np.arange(1, size + 1)\n",
    "\n",
    "my_y_linear     = linear_function(my_x) + noise()\n",
    "\n",
    "my_y_quadratic  = quadratic_function(my_x) + noise()\n",
    "\n",
    "my_y_polynomial = polynomial_function(my_x) + noise()\n",
    "\n",
    "my_y_log        = log_function(my_x) + noise()\n",
    "\n",
    "my_y_exp        = exp_function(my_x) + noise()\n",
    "\n"
   ]
  },
  {
   "cell_type": "code",
   "execution_count": 29,
   "metadata": {},
   "outputs": [],
   "source": [
    "data = pd.DataFrame({'x': my_x, 'y_linear': my_y_linear, 'y_quadratic': my_y_quadratic, 'y_polynomial': my_y_polynomial, 'y_log': my_y_log, 'y_exp': my_y_exp}) "
   ]
  },
  {
   "cell_type": "code",
   "execution_count": 30,
   "metadata": {},
   "outputs": [
    {
     "data": {
      "text/html": [
       "<div>\n",
       "<style scoped>\n",
       "    .dataframe tbody tr th:only-of-type {\n",
       "        vertical-align: middle;\n",
       "    }\n",
       "\n",
       "    .dataframe tbody tr th {\n",
       "        vertical-align: top;\n",
       "    }\n",
       "\n",
       "    .dataframe thead th {\n",
       "        text-align: right;\n",
       "    }\n",
       "</style>\n",
       "<table border=\"1\" class=\"dataframe\">\n",
       "  <thead>\n",
       "    <tr style=\"text-align: right;\">\n",
       "      <th></th>\n",
       "      <th>x</th>\n",
       "      <th>y_linear</th>\n",
       "      <th>y_quadratic</th>\n",
       "      <th>y_polynomial</th>\n",
       "      <th>y_log</th>\n",
       "      <th>y_exp</th>\n",
       "    </tr>\n",
       "  </thead>\n",
       "  <tbody>\n",
       "    <tr>\n",
       "      <th>0</th>\n",
       "      <td>1</td>\n",
       "      <td>3.009626</td>\n",
       "      <td>14.781669</td>\n",
       "      <td>1.385547e+01</td>\n",
       "      <td>0.644260</td>\n",
       "      <td>1.114052</td>\n",
       "    </tr>\n",
       "    <tr>\n",
       "      <th>1</th>\n",
       "      <td>2</td>\n",
       "      <td>5.106228</td>\n",
       "      <td>23.085554</td>\n",
       "      <td>3.294751e+01</td>\n",
       "      <td>0.956536</td>\n",
       "      <td>1.124856</td>\n",
       "    </tr>\n",
       "    <tr>\n",
       "      <th>2</th>\n",
       "      <td>3</td>\n",
       "      <td>6.887792</td>\n",
       "      <td>32.953941</td>\n",
       "      <td>7.392961e+01</td>\n",
       "      <td>1.293944</td>\n",
       "      <td>1.436748</td>\n",
       "    </tr>\n",
       "    <tr>\n",
       "      <th>3</th>\n",
       "      <td>4</td>\n",
       "      <td>8.888037</td>\n",
       "      <td>45.104055</td>\n",
       "      <td>1.431013e+02</td>\n",
       "      <td>1.475830</td>\n",
       "      <td>1.607395</td>\n",
       "    </tr>\n",
       "    <tr>\n",
       "      <th>4</th>\n",
       "      <td>5</td>\n",
       "      <td>10.964138</td>\n",
       "      <td>59.121399</td>\n",
       "      <td>2.460221e+02</td>\n",
       "      <td>1.767316</td>\n",
       "      <td>1.768934</td>\n",
       "    </tr>\n",
       "    <tr>\n",
       "      <th>...</th>\n",
       "      <td>...</td>\n",
       "      <td>...</td>\n",
       "      <td>...</td>\n",
       "      <td>...</td>\n",
       "      <td>...</td>\n",
       "      <td>...</td>\n",
       "    </tr>\n",
       "    <tr>\n",
       "      <th>95</th>\n",
       "      <td>96</td>\n",
       "      <td>192.878083</td>\n",
       "      <td>9704.949252</td>\n",
       "      <td>9.305390e+05</td>\n",
       "      <td>4.520664</td>\n",
       "      <td>14764.764831</td>\n",
       "    </tr>\n",
       "    <tr>\n",
       "      <th>96</th>\n",
       "      <td>97</td>\n",
       "      <td>195.054069</td>\n",
       "      <td>9902.952171</td>\n",
       "      <td>9.594379e+05</td>\n",
       "      <td>4.738930</td>\n",
       "      <td>16317.582420</td>\n",
       "    </tr>\n",
       "    <tr>\n",
       "      <th>97</th>\n",
       "      <td>98</td>\n",
       "      <td>197.086719</td>\n",
       "      <td>10102.985161</td>\n",
       "      <td>9.889289e+05</td>\n",
       "      <td>4.401125</td>\n",
       "      <td>18033.715199</td>\n",
       "    </tr>\n",
       "    <tr>\n",
       "      <th>98</th>\n",
       "      <td>99</td>\n",
       "      <td>198.979837</td>\n",
       "      <td>10305.114491</td>\n",
       "      <td>1.019018e+06</td>\n",
       "      <td>4.600142</td>\n",
       "      <td>19930.370203</td>\n",
       "    </tr>\n",
       "    <tr>\n",
       "      <th>99</th>\n",
       "      <td>100</td>\n",
       "      <td>201.046543</td>\n",
       "      <td>10508.922758</td>\n",
       "      <td>1.049711e+06</td>\n",
       "      <td>4.527713</td>\n",
       "      <td>22026.487806</td>\n",
       "    </tr>\n",
       "  </tbody>\n",
       "</table>\n",
       "<p>100 rows × 6 columns</p>\n",
       "</div>"
      ],
      "text/plain": [
       "      x    y_linear   y_quadratic  y_polynomial     y_log         y_exp\n",
       "0     1    3.009626     14.781669  1.385547e+01  0.644260      1.114052\n",
       "1     2    5.106228     23.085554  3.294751e+01  0.956536      1.124856\n",
       "2     3    6.887792     32.953941  7.392961e+01  1.293944      1.436748\n",
       "3     4    8.888037     45.104055  1.431013e+02  1.475830      1.607395\n",
       "4     5   10.964138     59.121399  2.460221e+02  1.767316      1.768934\n",
       "..  ...         ...           ...           ...       ...           ...\n",
       "95   96  192.878083   9704.949252  9.305390e+05  4.520664  14764.764831\n",
       "96   97  195.054069   9902.952171  9.594379e+05  4.738930  16317.582420\n",
       "97   98  197.086719  10102.985161  9.889289e+05  4.401125  18033.715199\n",
       "98   99  198.979837  10305.114491  1.019018e+06  4.600142  19930.370203\n",
       "99  100  201.046543  10508.922758  1.049711e+06  4.527713  22026.487806\n",
       "\n",
       "[100 rows x 6 columns]"
      ]
     },
     "execution_count": 30,
     "metadata": {},
     "output_type": "execute_result"
    }
   ],
   "source": [
    "data"
   ]
  },
  {
   "cell_type": "markdown",
   "metadata": {},
   "source": [
    "### Step 3: calculate the errors for the whole domain/ codomain\n",
    "$$\n",
    "M S E=\\frac{1}{n} \\sum_{i=1}^n\\left(y_i-\\widehat{y}_l\\right)^2\n",
    "$$"
   ]
  },
  {
   "cell_type": "code",
   "execution_count": 31,
   "metadata": {},
   "outputs": [],
   "source": [
    "# Using model that are the same as the function earlier defined, \n",
    "func_list = [None, linear_function, quadratic_function, polynomial_function, log_function ,exp_function]"
   ]
  },
  {
   "cell_type": "code",
   "execution_count": 32,
   "metadata": {},
   "outputs": [
    {
     "name": "stdout",
     "output_type": "stream",
     "text": [
      "0.010312242452426559\n",
      "0.0100296741603536\n",
      "0.01149238358975773\n",
      "0.011174769528985287\n",
      "0.006816579491999509\n"
     ]
    }
   ],
   "source": [
    "n = data.shape[0]\n",
    "\n",
    "for i, column in enumerate(list(data.columns)):\n",
    "    if i == 0 : continue\n",
    "    MSE = 1/n * sum([ (a-b)**2 for a, b in zip(data[column].tolist(),(func_list[i](data.x).tolist()))])\n",
    "    print (MSE)"
   ]
  },
  {
   "cell_type": "code",
   "execution_count": 33,
   "metadata": {},
   "outputs": [],
   "source": [
    "# Use my own model that has customisable parameters such as the error functions, the order of the polynomial, and initial guess of coeeficients\n",
    "import MyModel"
   ]
  },
  {
   "cell_type": "code",
   "execution_count": 34,
   "metadata": {},
   "outputs": [
    {
     "name": "stdout",
     "output_type": "stream",
     "text": [
      "The coefficient are:  [0.8011609  2.00289827]\n",
      "The value of loss function is: 0.02015312825170518\n"
     ]
    }
   ],
   "source": [
    "### Test the linear function, the expected coefficients should be close to [1, 2]\n",
    "x = data[\"x\"].to_numpy()\n",
    "y = data[\"y_linear\"].to_numpy()\n",
    "model = MyModel.MyModel(order = 1, loss_function=\"MSE\")\n",
    "model.fit(x,y)\n",
    "print (\"The coefficient are: \", model.coefficients)\n",
    "print (\"The value of loss function is:\", model.loss)"
   ]
  },
  {
   "cell_type": "code",
   "execution_count": 35,
   "metadata": {},
   "outputs": [
    {
     "name": "stdout",
     "output_type": "stream",
     "text": [
      "The coefficient are:  [ 5.67437440e-01  2.01664671e+00 -1.36123154e-04]\n",
      "The value of loss function is: 0.03188889042716339\n"
     ]
    }
   ],
   "source": [
    "### Test the linear function, but with a quadratic model, the expected coefficients are [1, 2, 0]?\n",
    "x = data[\"x\"].to_numpy()\n",
    "y = data[\"y_linear\"].to_numpy()\n",
    "model = MyModel.MyModel(order = 2, loss_function=\"MSE\")\n",
    "model.fit(x,y)\n",
    "print (\"The coefficient are: \", model.coefficients)\n",
    "print (\"The value of loss function is:\", model.loss)"
   ]
  },
  {
   "cell_type": "code",
   "execution_count": 36,
   "metadata": {},
   "outputs": [
    {
     "name": "stdout",
     "output_type": "stream",
     "text": [
      "The coefficient are:  [8.59955625 5.01668427 0.99985839]\n",
      "The value of loss function is: 0.03122968982859889\n"
     ]
    }
   ],
   "source": [
    "### Test the quadratic function, the expected output is [9, 5, 1]\n",
    "y = data[\"y_quadratic\"].to_numpy()\n",
    "model = MyModel.MyModel(order = 2, loss_function=\"MSE\")\n",
    "model.fit(x,y)\n",
    "print (\"The coefficient are: \", model.coefficients)\n",
    "print (\"The value of loss function is:\", model.loss)"
   ]
  },
  {
   "cell_type": "code",
   "execution_count": 37,
   "metadata": {},
   "outputs": [
    {
     "name": "stdout",
     "output_type": "stream",
     "text": [
      "The coefficient are:  [10.2084296  -2.94705668  4.99902481  1.00000533]\n",
      "The value of loss function is: 0.046814553713171836\n"
     ]
    }
   ],
   "source": [
    "### Test the polynomial function, the expected output is [11, -3, 5, 1]\n",
    "y = data[\"y_polynomial\"].to_numpy()\n",
    "model = MyModel.MyModel(order = 3, loss_function=\"MSE\")\n",
    "model.fit(x,y)\n",
    "print (\"The coefficient are: \", model.coefficients)\n",
    "print (\"The value of loss function is:\", model.loss)"
   ]
  },
  {
   "cell_type": "code",
   "execution_count": 38,
   "metadata": {},
   "outputs": [
    {
     "name": "stdout",
     "output_type": "stream",
     "text": [
      "The coefficient are:  [ 8.88462118e-08  1.00000506e+00 -4.99827679e-01  3.37624923e-01\n",
      " -2.33398791e-01  5.98661372e-03 -3.76528966e-05]\n",
      "The value of loss function is: 39118137440.99298\n"
     ]
    }
   ],
   "source": [
    "# Try to force fit the log function with a polynomial model\n",
    "y = data[\"y_log\"].to_numpy()\n",
    "model = MyModel.MyModel(initial_coefficients = [0, 1, -1/2, 1/3, -1/4, 1/5, -1/6], order = 6, loss_function = \"MSE\")\n",
    "model.fit(x,y)\n",
    "print (\"The coefficient are: \", model.coefficients)\n",
    "print (\"The value of loss function is:\", model.loss)"
   ]
  },
  {
   "cell_type": "code",
   "execution_count": 39,
   "metadata": {},
   "outputs": [
    {
     "name": "stdout",
     "output_type": "stream",
     "text": [
      "The coefficient are:  [1.00000000e+00 1.00000000e-01 5.00000000e-03 1.66666667e-04\n",
      " 4.16666848e-06 8.35025383e-08 8.60763282e-09]\n",
      "The value of loss function is: 5621951.43387379\n"
     ]
    }
   ],
   "source": [
    "# Try to force fit the exp function with a polynomial model\n",
    "y = data[\"y_exp\"].to_numpy()\n",
    "model = MyModel.MyModel(initial_coefficients = [1, 1/10, 1/200, 1/6000, 1/240000, 1/(1.2*10**7), 0], order = 6, loss_function = \"MSE\")\n",
    "model.fit(x,y)\n",
    "print (\"The coefficient are: \", model.coefficients)\n",
    "print (\"The value of loss function is:\", model.loss)"
   ]
  },
  {
   "cell_type": "code",
   "execution_count": 40,
   "metadata": {},
   "outputs": [
    {
     "data": {
      "image/png": "[encoded data removed]",
      "text/plain": [
       "<Figure size 640x480 with 1 Axes>"
      ]
     },
     "metadata": {},
     "output_type": "display_data"
    }
   ],
   "source": [
    "plt.plot(x,y)\n",
    "plt.plot(x,model.predict(x))\n",
    "plt.show()"
   ]
  },
  {
   "cell_type": "markdown",
   "metadata": {},
   "source": [
    "Trying to fit a polynomial function just fails horrendously for log and exp function, as it deviates from the actual function as x becomes large "
   ]
  },
  {
   "cell_type": "markdown",
   "metadata": {},
   "source": [
    "### Step 4: perform the Step $1-3$ on a cross-validation setting."
   ]
  },
  {
   "cell_type": "markdown",
   "metadata": {},
   "source": [
    "In this question, you are supposed to conduct a LOOCV and a K-fold CV on the data set."
   ]
  },
  {
   "cell_type": "code",
   "execution_count": 41,
   "metadata": {},
   "outputs": [],
   "source": [
    "from sklearn.model_selection import train_test_split\n",
    "\n",
    "train_data, test_data = train_test_split(data, test_size=0.2, random_state=42)"
   ]
  },
  {
   "cell_type": "code",
   "execution_count": 42,
   "metadata": {},
   "outputs": [
    {
     "name": "stdout",
     "output_type": "stream",
     "text": [
      "     x    y_linear  y_quadratic   y_polynomial     y_log        y_exp\n",
      "55  56  112.930144  3425.023263  191138.796401  4.057945   270.387591\n",
      "88  89  179.198264  8375.062872  744317.843276  4.456481  7331.983496\n",
      "26  27   54.974120   873.055425   23257.983475  3.167990    14.921537\n",
      "42  43   86.862105  2073.050866   88634.132569  3.750586    73.677343\n",
      "69  70  141.087700  5259.034966  367300.968423  4.100794  1096.689412\n",
      "(80, 6)\n",
      "     x    y_linear  y_quadratic   y_polynomial     y_log        y_exp\n",
      "83  84  168.958854  7484.896828  627742.909195  4.438937  4447.241630\n",
      "53  54  108.934216  3195.159136  171893.218053  4.030561   221.328542\n",
      "70  71  143.051728  5405.130542  382913.864691  4.247997  1211.975082\n",
      "45  46   92.995494  2354.956291  107789.104695  3.676200    99.430905\n",
      "44  45   91.023979  2258.997170  101125.971675  3.704505    90.064015\n",
      "(20, 6)\n"
     ]
    }
   ],
   "source": [
    "print (train_data.head())\n",
    "print (train_data.shape)\n",
    "print (test_data.head())\n",
    "print (test_data.shape)"
   ]
  },
  {
   "cell_type": "code",
   "execution_count": 43,
   "metadata": {},
   "outputs": [
    {
     "name": "stdout",
     "output_type": "stream",
     "text": [
      "[0.79628628 2.00294462]\n",
      "0.018130709129067318\n"
     ]
    }
   ],
   "source": [
    "x_learn = train_data[\"x\"].to_numpy()\n",
    "y_learn = train_data[\"y_linear\"].to_numpy()\n",
    "x_test = test_data[\"x\"].to_numpy()\n",
    "y_test = test_data[\"y_linear\"].to_numpy()\n",
    "\n",
    "model = MyModel.MyModel(order = 1, loss_function=\"MSE\")\n",
    "model.fit(x_learn,y_learn)\n",
    "model.predict(x_learn)\n",
    "print (model.coefficients)\n",
    "print (model.test_loss(x_test,y_test))"
   ]
  },
  {
   "cell_type": "markdown",
   "metadata": {},
   "source": [
    "Looks like a reasonable fit for the linear function and reasonable loss for test data"
   ]
  },
  {
   "cell_type": "markdown",
   "metadata": {},
   "source": [
    "Step 5: assess the MSEs for the various polynomial models.\n",
    "Generate a plot similar to the ones presented in the lecture, where on the $\\mathrm{X}$-axis we present the degree of the polynomial and on the $y$-axis the MSE."
   ]
  },
  {
   "cell_type": "code",
   "execution_count": 44,
   "metadata": {},
   "outputs": [],
   "source": [
    "y = data[\"y_polynomial\"].to_numpy()\n",
    "max_order = 6\n",
    "order_of_polynomial = [i for i in range(1, max_order + 1)]\n",
    "loss = []\n",
    "for order in range (1, max_order + 1):\n",
    "    model = MyModel.MyModel(order = order, loss_function=\"MSE\")\n",
    "    model.fit(x,y)\n",
    "    loss.append(model.loss)\n"
   ]
  },
  {
   "cell_type": "code",
   "execution_count": 45,
   "metadata": {},
   "outputs": [
    {
     "data": {
      "image/png": "[encoded data removed]",
      "text/plain": [
       "<Figure size 640x480 with 1 Axes>"
      ]
     },
     "metadata": {},
     "output_type": "display_data"
    }
   ],
   "source": [
    "plt.plot(order_of_polynomial, loss)\n",
    "plt.show()"
   ]
  },
  {
   "cell_type": "markdown",
   "metadata": {},
   "source": [
    "The first 6 polynomial functions behaves as expected "
   ]
  },
  {
   "cell_type": "code",
   "execution_count": 46,
   "metadata": {},
   "outputs": [],
   "source": [
    "max_order = 10\n",
    "order_of_polynomial = [i for i in range(1, max_order + 1)]\n",
    "loss = []\n",
    "for order in range (1, max_order + 1):\n",
    "    model = MyModel.MyModel(order = order, loss_function=\"MSE\")\n",
    "    model.fit(x,y)\n",
    "    loss.append(model.loss)\n"
   ]
  },
  {
   "cell_type": "code",
   "execution_count": 47,
   "metadata": {},
   "outputs": [
    {
     "data": {
      "image/png": "[encoded data removed]",
      "text/plain": [
       "<Figure size 640x480 with 1 Axes>"
      ]
     },
     "metadata": {},
     "output_type": "display_data"
    }
   ],
   "source": [
    "plt.plot(order_of_polynomial, loss)\n",
    "plt.show()"
   ]
  },
  {
   "cell_type": "markdown",
   "metadata": {},
   "source": [
    "The MSE became massive as the number of parameters (order of parameter)increases beyond 6, I suspect the model finds the local minimum instead of the global minimum.\n",
    "\n",
    "I will try to improve that by giving it a better intial guess of the coefficients."
   ]
  },
  {
   "cell_type": "code",
   "execution_count": 48,
   "metadata": {},
   "outputs": [],
   "source": [
    "max_order = 10\n",
    "order_of_polynomial = [i for i in range(1, max_order + 1)]\n",
    "loss = []\n",
    "first_few_coefficients = [11,-3, 5, 1]\n",
    "for order in range (1, max_order + 1):\n",
    "    if order < 4:\n",
    "        coefficients =[0]* (order + 1)\n",
    "    else:\n",
    "        ### Manually set the inital coefficients to be close to the expected coefficients\n",
    "        coefficients = first_few_coefficients + ([0] * (order - 3))\n",
    "    model = MyModel.MyModel(initial_coefficients = coefficients,order = order, loss_function=\"MSE\")\n",
    "    model.fit(x,y)\n",
    "    loss.append(model.loss)"
   ]
  },
  {
   "cell_type": "code",
   "execution_count": 49,
   "metadata": {},
   "outputs": [
    {
     "data": {
      "image/png": "[encoded data removed]",
      "text/plain": [
       "<Figure size 640x480 with 1 Axes>"
      ]
     },
     "metadata": {},
     "output_type": "display_data"
    }
   ],
   "source": [
    "plt.plot(order_of_polynomial, loss)\n",
    "plt.show()"
   ]
  },
  {
   "cell_type": "code",
   "execution_count": 50,
   "metadata": {},
   "outputs": [
    {
     "data": {
      "image/png": "[encoded data removed]",
      "text/plain": [
       "<Figure size 640x480 with 1 Axes>"
      ]
     },
     "metadata": {},
     "output_type": "display_data"
    }
   ],
   "source": [
    "### Cross Validate 3 times\n",
    "\n",
    "max_order = 7\n",
    "order_of_polynomial = [i for i in range(1, max_order + 1)]\n",
    "for validation_no in range(0, 3):\n",
    "    train_data, test_data = train_test_split(data, test_size=0.05, random_state=42 + validation_no)\n",
    "    loss = []\n",
    "    first_few_coefficients = [11,-3, 5, 1]\n",
    "    x_learn = train_data[\"x\"].to_numpy()\n",
    "    y_learn = train_data[\"y_polynomial\"].to_numpy()\n",
    "    x_test = test_data[\"x\"].to_numpy()\n",
    "    y_test = test_data[\"y_polynomial\"].to_numpy()\n",
    "    for order in range (1, max_order + 1):\n",
    "        if order < 4:\n",
    "            coefficients =[0]* (order + 1)\n",
    "        else:\n",
    "            ### Manually set the inital coefficients to be close to the expected coefficients\n",
    "            coefficients = first_few_coefficients + ([0] * (order - 3))\n",
    "        model = MyModel.MyModel(initial_coefficients = coefficients,order = order, loss_function=\"MSE\")\n",
    "        model.fit(x_learn,y_learn)\n",
    "        loss.append(model.test_loss(x_test,y_test))\n",
    "    plt.plot(order_of_polynomial, loss)\n",
    "plt.show()"
   ]
  }
 ],
 "metadata": {
  "kernelspec": {
   "display_name": "Python 3",
   "language": "python",
   "name": "python3"
  },
  "language_info": {
   "codemirror_mode": {
    "name": "ipython",
    "version": 3
   },
   "file_extension": ".py",
   "mimetype": "text/x-python",
   "name": "python",
   "nbconvert_exporter": "python",
   "pygments_lexer": "ipython3",
   "version": "3.8.2"
  },
  "orig_nbformat": 4
 },
 "nbformat": 4,
 "nbformat_minor": 2
}
