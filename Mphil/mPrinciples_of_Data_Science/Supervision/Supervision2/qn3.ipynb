{
 "cells": [
  {
   "cell_type": "markdown",
   "metadata": {},
   "source": [
    "$x^2$ distribution\n",
    "\n",
    "$$\n",
    "\\begin{aligned}\n",
    "f(x) & =\\frac{1}{2^{k / 2} \\Gamma(k / 2)} x^{k / 2-1} e^{-x / 2} . \\\\\n",
    "& =g(k) x^{k / 2-1} e^{-x / 2} \\\\\n",
    "1 & =\\int_{-\\infty}^{\\infty} g(k) x^{k / 2-1} e^{-x / 2} d x\n",
    "\\end{aligned}\n",
    "$$\n"
   ]
  },
  {
   "cell_type": "markdown",
   "metadata": {},
   "source": [
    "\n",
    "$$\n",
    "\\begin{aligned}\n",
    "\\text E(x)&=\\int g(k) x^{k / 2} e^{-x / 2} d x \\\\\n",
    "& =\\left[g(k) x^{k / 2}(-2) e^{-x / 2}\\right]_0^{\\infty}-\\int g(k)\\left(\\frac{k}{2}\\right)\\left(x^{k / 2-1}\\right)(-2) e^{-x / 2} d x \\\\\n",
    "& =k \\int g(k)\\left(x^{k / 2-1}\\right) e^{-\\frac{x}{2}} d x .\\\\\n",
    "& =k\n",
    "\\end{aligned}\n",
    "$$"
   ]
  },
  {
   "cell_type": "markdown",
   "metadata": {},
   "source": [
    "$$\n",
    "\\begin{aligned} E\\left(x^2\\right) & =\\int_0^{\\infty} g(k) x^{k / 2+1} e^{-x / 2} d x \\\\ & =[...]_0^{\\infty}-\\int g(k)\\left(\\frac{k}{2}+1\\right)\\left(x^{k / 2}\\right)(-2) e^{-x / 2} d x \\\\ & =(k+2) E(x) \\\\ & =k^2+2 k \\\\ \\operatorname{Var}\\left(x^2\\right) & =E\\left(x^2\\right)-E(x)^2=k^2+2 k-k^2=2 k\\end{aligned}\n",
    "$$"
   ]
  }
 ],
 "metadata": {
  "kernelspec": {
   "display_name": "Python 3",
   "language": "python",
   "name": "python3"
  },
  "language_info": {
   "name": "python",
   "version": "3.8.2"
  },
  "orig_nbformat": 4
 },
 "nbformat": 4,
 "nbformat_minor": 2
}
