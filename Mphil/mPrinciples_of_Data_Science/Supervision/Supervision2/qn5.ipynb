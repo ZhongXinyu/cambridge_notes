{
 "cells": [
  {
   "cell_type": "markdown",
   "metadata": {},
   "source": [
    "5. Using the Jacobian matrix derive the standard error propagation formula for $\\sigma_f$ given $\\sigma_x$ and $\\sigma_y$ for the following transformations\\\n",
    "(a) $f=x+y$\\\n",
    "(b) $f=x y$\\\n",
    "(c) $f=x / y$\\\n",
    "(d) $f=\\sin (x)$\\\n",
    "(e) $f=\\cos (x)$\\\n",
    "assuming that $x$ and $y$ are independent."
   ]
  },
  {
   "cell_type": "markdown",
   "metadata": {},
   "source": [
    "use $\\sigma_f^2=\\left(\\frac{d f}{d X}\\right)^2 \\sigma_X^2+\\left(\\frac{d f}{d Y}\\right)^2 \\sigma_Y^2+2\\left(\\frac{d f}{d X}\\right)\\left(\\frac{d f}{d Y}\\right) \\rho \\sigma_X \\sigma_Y$"
   ]
  },
  {
   "cell_type": "code",
   "execution_count": null,
   "metadata": {},
   "outputs": [],
   "source": [
    "(a) "
   ]
  }
 ],
 "metadata": {
  "kernelspec": {
   "display_name": "Python 3",
   "language": "python",
   "name": "python3"
  },
  "language_info": {
   "name": "python",
   "version": "3.8.2"
  },
  "orig_nbformat": 4
 },
 "nbformat": 4,
 "nbformat_minor": 2
}
