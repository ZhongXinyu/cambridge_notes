{
 "cells": [
  {
   "cell_type": "markdown",
   "metadata": {},
   "source": [
    "2. If 1000 measurements are grouped in 25 bins and fitted to a curve which is the sum of an arbitary Gaussian on an arbitary flat background, how many degrees of freedom are there?"
   ]
  },
  {
   "cell_type": "markdown",
   "metadata": {},
   "source": [
    "It should have 21 degrees of freedom. 25 bins - 1 for the background - 3 for the Gaussian = 21.\n",
    "The last bin does not have restricted degree of freedom, the 1000 points might not all end up in the 25 bins."
   ]
  }
 ],
 "metadata": {
  "kernelspec": {
   "display_name": "Python 3",
   "language": "python",
   "name": "python3"
  },
  "language_info": {
   "name": "python",
   "version": "3.8.2"
  }
 },
 "nbformat": 4,
 "nbformat_minor": 2
}
