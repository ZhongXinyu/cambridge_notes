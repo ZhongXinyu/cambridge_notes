{
 "cells": [
  {
   "cell_type": "markdown",
   "metadata": {},
   "source": [
    "#### 6. Show that the sum of two Poisson distributed variables is also Poisson distributed. In other words show that if X is distributed according to Poiss(X; λX ) and Y is distributed according to Poiss(Y ; λY ) then Z = X + Y is distributed according to Poiss(Z; λZ )."
   ]
  },
  {
   "cell_type": "markdown",
   "metadata": {},
   "source": [
    "\\begin{align*}\n",
    "Dist(Z,\\lambda_Z)& = \\sum_{k=0}^Z P(k,\\lambda_X) P(Z-k,\\lambda_Y)\\\\\n",
    "    &=\\sum_{k=0}^Z \\frac{e^{-\\lambda_X}(\\lambda_X)^k}{k!} \\frac{e^{-\\lambda_Y}(\\lambda_Y)^{(Z-k)}}{(Z-k)!} \\\\\n",
    "    &=  \\sum_{k=0}^Z e^{-(\\lambda_X+\\lambda_Y)}\\frac{(\\lambda_X)^k (\\lambda_Y)^{(Z-k)}}{k!(Z-k)!}\\\\\n",
    "    &= e^{-(\\lambda_X+\\lambda_Y)} \\frac{(\\lambda_X+\\lambda_Y)^Z}{Z!}\n",
    "\\end{align*}"
   ]
  },
  {
   "cell_type": "markdown",
   "metadata": {},
   "source": [
    "This is a Possion distribution $P(Z,\\lambda_Z)$, where $\\lambda_Z = \\lambda_X + \\lambda_Y$"
   ]
  },
  {
   "cell_type": "markdown",
   "metadata": {},
   "source": [
    "$$\n",
    "\\begin{aligned}\n",
    "& \\begin{aligned}\n",
    "\\psi(t ; \\lambda)=E\\left[e^{i t x}\\right] & =\\sum_{x=0}^{\\infty} \\frac{e^{i t x} e^{-\\lambda} \\lambda^x}{x !} \\\\\n",
    "& =\\sum \\frac{\\left(e^{i t} \\lambda\\right)^x e^{-\\lambda}}{x !} \\\\\n",
    "& =e^{-\\lambda} \\sum \\frac{\\left(e^{i t} \\lambda\\right)^x}{x !} \\\\\n",
    "& =e^{-\\lambda} e^{e^{i t} \\lambda} \\\\\n",
    "& =e^{\\lambda\\left(e^{i t}-1\\right)} \\\\\n",
    "\\psi_z(t: \\lambda)=\\psi_x(t)+\\psi_y(t) & =e^{(\\lambda x+\\lambda y)\\left(e^{i t}-1\\right)}\n",
    "\\end{aligned}\n",
    "\\end{aligned}\n",
    "$$\n",
    "\n",
    "Which is charaiterstic funtion\n",
    "of $F(z ; \\lambda z)$ where $\\lambda z=\\lambda x+\\lambda y$\n",
    "$$\n",
    "\\begin{aligned}\n",
    "F(z ; \\lambda) & =\\frac{1}{2 \\pi} \\int_{-\\infty}^{\\infty} \\psi(t ; \\lambda) e^{-z t} d t \\\\\n",
    "& =\\frac{1}{2 \\pi} \\int_{-\\infty}^{\\infty} e^{\\left(\\lambda_x+\\lambda y\\right)\\left(e^{i t}-1\\right)} e^{-i z t} d t ?\n",
    "\\end{aligned}\n",
    "$$"
   ]
  }
 ],
 "metadata": {
  "language_info": {
   "name": "python"
  },
  "orig_nbformat": 4
 },
 "nbformat": 4,
 "nbformat_minor": 2
}
