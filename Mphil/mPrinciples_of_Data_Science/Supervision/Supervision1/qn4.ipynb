{
 "cells": [
  {
   "cell_type": "markdown",
   "metadata": {},
   "source": [
    "#### 4. Show that for a binomial distribution with n trials and a success rate of p that the sum of all possible outcomes is unity. In other words, prove that the binomial p.d.f.is properly normalised."
   ]
  },
  {
   "cell_type": "markdown",
   "metadata": {},
   "source": [
    "The probability of have $k$ success trials with $n$ trials and $p$ success rate = $P(k ; p, n)=\\frac{n !}{k !(n-k) !} p^k(1-p)^{n-k}$\n",
    "To sum up all the possible outcomes\\\n",
    "$=\\sum_{k=0}^{n} P(k;p,n)$ \n",
    "$=\\sum_{k=0}^{n} \\frac{n !}{k !(n-k) !} p^k(1-p)^{n-k}$\n",
    "\n",
    "Note that the expansion for $(p - (1-p))^n = \\sum_{k=0}^{n} \\frac{n !}{k !(n-k) !} p^k(1-p)^{n-k} = 1$\n",
    "\n",
    "Therefore the sum of all possible outcomes is unity."
   ]
  }
 ],
 "metadata": {
  "language_info": {
   "name": "python"
  },
  "orig_nbformat": 4
 },
 "nbformat": 4,
 "nbformat_minor": 2
}
