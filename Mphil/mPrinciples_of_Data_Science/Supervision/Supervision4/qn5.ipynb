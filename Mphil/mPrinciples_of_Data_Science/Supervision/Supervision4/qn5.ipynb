{
 "cells": [
  {
   "cell_type": "markdown",
   "metadata": {},
   "source": [
    "5. Expectation maximisation on a biased coin flip. Imagine that you have two biased coins, called $A$ and $B$. The probability that coin $A$ gives a head is $\\theta_A$ and the probability that coin $B$ gives a head is $\\theta_B$ (where $\\theta_A$ and $\\theta_B$ may not necessarily be 0.5 ). Imagine you have a collection of 5 datasets in which first one of the coins is selected (with probability of 0.5 ), you can call this random variable $Z$, and then the chosen coin is flipped 10 times, this random variable can be $X$. You have the obtained data in terms of $X$ (which I put below) but you do not know for a given dataset whether coin $A$ or coin $B$ was used, thus $Z$ is a hidden variable. Use an expectation maximisation procedure to iteratively converge on estimates of $\\hat{\\theta}_A$ and $\\hat{\\theta}_B$ given the data below. If it helps this data is also stored in datasets/biased_coin_flip.npy."
   ]
  },
  {
   "cell_type": "code",
   "execution_count": 2,
   "metadata": {},
   "outputs": [],
   "source": [
    "import numpy as np\n",
    "from iminuit import Minuit\n",
    "from iminuit.cost import UnbinnedNLL"
   ]
  },
  {
   "cell_type": "code",
   "execution_count": 3,
   "metadata": {},
   "outputs": [
    {
     "name": "stdout",
     "output_type": "stream",
     "text": [
      "[['T' 'H' 'H' 'H' 'H' 'H' 'H' 'H' 'T' 'H']\n",
      " ['T' 'T' 'T' 'T' 'T' 'T' 'H' 'T' 'H' 'T']\n",
      " ['H' 'T' 'T' 'H' 'H' 'H' 'H' 'H' 'H' 'H']\n",
      " ['T' 'T' 'H' 'T' 'T' 'H' 'H' 'H' 'T' 'H']\n",
      " ['H' 'T' 'H' 'H' 'T' 'T' 'H' 'H' 'H' 'H']]\n"
     ]
    }
   ],
   "source": [
    "# read from npy file\n",
    "with open('biased_coin_flip.npy', 'rb') as f:\n",
    "    data = np.load(f)\n",
    "    print(data)"
   ]
  },
  {
   "cell_type": "code",
   "execution_count": 4,
   "metadata": {},
   "outputs": [
    {
     "name": "stdout",
     "output_type": "stream",
     "text": [
      "[8, 2, 8, 5, 7]\n"
     ]
    }
   ],
   "source": [
    "total_heads = [list(trials).count(\"H\") for trials in data]\n",
    "\n",
    "print (total_heads)"
   ]
  },
  {
   "cell_type": "markdown",
   "metadata": {},
   "source": [
    "print(\"Total heads in each trial: \", total_heads)"
   ]
  },
  {
   "cell_type": "code",
   "execution_count": 5,
   "metadata": {},
   "outputs": [],
   "source": [
    "# set up binomial distribution\n",
    "\n",
    "binomial = lambda k, _theta, n : np.math.factorial(n) / (np.math.factorial(k) * np.math.factorial(n - k)) * _theta ** k * (1 - _theta) ** (n - k)"
   ]
  },
  {
   "cell_type": "code",
   "execution_count": 6,
   "metadata": {},
   "outputs": [
    {
     "name": "stdout",
     "output_type": "stream",
     "text": [
      "0.1171875\n",
      "0.5\n"
     ]
    }
   ],
   "source": [
    "print (binomial(3, 0.5, 10))\n",
    "print (binomial(1, 0.5, 2))"
   ]
  },
  {
   "cell_type": "code",
   "execution_count": 9,
   "metadata": {},
   "outputs": [
    {
     "name": "stdout",
     "output_type": "stream",
     "text": [
      "Step: 1\n",
      "theta_A 0.7827269691438481 theta_B: 0.48215438885968814\n",
      "\n",
      "\n",
      "Step: 2\n",
      "theta_A 0.7588544983720655 theta_B: 0.4275402978418712\n",
      "\n",
      "\n",
      "Step: 3\n",
      "theta_A 0.7518475853164959 theta_B: 0.3919045037098392\n",
      "\n",
      "\n",
      "Step: 4\n",
      "theta_A 0.7484030603204367 theta_B: 0.3710231951381676\n",
      "\n",
      "\n",
      "Step: 5\n",
      "theta_A 0.7460654472862335 theta_B: 0.3596640104329538\n",
      "\n",
      "\n",
      "Step: 6\n",
      "theta_A 0.7445290203347834 theta_B: 0.3536125900007485\n",
      "\n",
      "\n",
      "Step: 7\n",
      "theta_A 0.7435965213541265 theta_B: 0.3503717250499018\n",
      "\n",
      "\n",
      "Step: 8\n",
      "theta_A 0.7430583329514068 theta_B: 0.3486200617703612\n",
      "\n",
      "\n",
      "Step: 9\n",
      "theta_A 0.742755637317406 theta_B: 0.3476671154998328\n",
      "\n",
      "\n",
      "Step: 10\n",
      "theta_A 0.7425875173677807 theta_B: 0.34714673200426893\n",
      "\n",
      "\n",
      "Step: 11\n",
      "theta_A 0.7424947122880687 theta_B: 0.3468619791291944\n",
      "\n",
      "\n",
      "Step: 12\n",
      "theta_A 0.7424436384924588 theta_B: 0.34670599197835916\n",
      "\n",
      "\n",
      "Step: 13\n",
      "theta_A 0.7424155747445383 theta_B: 0.3466204922319408\n",
      "\n",
      "\n",
      "Step: 14\n",
      "theta_A 0.7424001670521524 theta_B: 0.34657361321067415\n",
      "\n",
      "\n",
      "Step: 15\n",
      "theta_A 0.7423917115371554 theta_B: 0.34654790529073215\n",
      "\n",
      "\n",
      "Step: 16\n",
      "theta_A 0.7423870723657225 theta_B: 0.34653380604022277\n",
      "\n",
      "\n",
      "Step: 17\n",
      "theta_A 0.7423845273799408 theta_B: 0.34652607305219185\n",
      "\n",
      "\n",
      "Step: 18\n",
      "theta_A 0.742383131332776 theta_B: 0.34652183163688155\n",
      "\n",
      "\n",
      "Step: 19\n",
      "theta_A 0.7423823655628686 theta_B: 0.34651950525542374\n",
      "\n",
      "\n",
      "Step: 20\n",
      "theta_A 0.7423819455259841 theta_B: 0.3465182292436185\n",
      "\n",
      "\n",
      "Step: 21\n",
      "theta_A 0.7423817151316626 theta_B: 0.3465175293525091\n",
      "\n",
      "\n",
      "Step: 22\n",
      "theta_A 0.7423815887590202 theta_B: 0.34651714546204426\n",
      "\n",
      "\n",
      "Step: 23\n",
      "theta_A 0.7423815194430639 theta_B: 0.3465169348976841\n",
      "\n",
      "\n",
      "Step: 24\n",
      "theta_A 0.7423814814230684 theta_B: 0.34651681940279405\n",
      "\n",
      "\n",
      "[[0.9857097  0.0142903 ]\n",
      " [0.00267046 0.99732954]\n",
      " [0.9857097  0.0142903 ]\n",
      " [0.30058259 0.69941741]\n",
      " [0.92696739 0.07303261]]\n",
      "0.7423814814230684 0.34651681940279405\n"
     ]
    }
   ],
   "source": [
    "# expectation step\n",
    "# calculate the probability of heads for each coin\n",
    "\n",
    "from types import new_class\n",
    "\n",
    "\n",
    "theta_A = 0.9\n",
    "theta_B = 0.5\n",
    "\n",
    "# store the number of trials and number of flips\n",
    "# in this example, N = 5, flip = 10\n",
    "N, flip = int(data.shape[0]), int(data.shape[1])\n",
    "\n",
    "q = np.zeros((N, 2))\n",
    "\n",
    "#construct the negative log likelikehood function to minimise\n",
    "def model(total_heads, theta_A, theta_B):\n",
    "    theta = [theta_A, theta_B]\n",
    "    total_log_likelihood = 0\n",
    "    for i in range(0, N):\n",
    "        for k in range (2):\n",
    "            total_log_likelihood += q[i,k] * np.log((0.5 * binomial(total_heads[i], theta[k], flip))/q[i,k])\n",
    "    return - total_log_likelihood\n",
    "\n",
    "def model_tomini(total_heads, model):\n",
    "    return lambda theta_A, theta_B: model(total_heads, theta_A, theta_B)\n",
    "\n",
    "step = 0\n",
    "\n",
    "while True:\n",
    "    \n",
    "    #construct the Q matrix\n",
    "    theta = [theta_A, theta_B]\n",
    "\n",
    "    for i in range(0, N):\n",
    "        for k in range (2):\n",
    "            # this is the posterior probability of coin k given the data\n",
    "            q[i, k] = (0.5 * binomial(total_heads[i], theta[k], flip))/ (0.5 * binomial(total_heads[i], theta[1], flip) + 0.5 * binomial(total_heads[i], theta[0], flip))\n",
    "    \n",
    "    nll = model_tomini(total_heads, model)\n",
    "\n",
    "    mi = Minuit(nll, theta_A=theta_A, theta_B=theta_B)\n",
    "\n",
    "    mi.limits['theta_A'] = (0, 1)\n",
    "\n",
    "    mi.limits['theta_B'] = (0, 1)\n",
    "    \n",
    "    mi.migrad()\n",
    "\n",
    "    mi.hesse()\n",
    "\n",
    "    new_theta_A, new_theta_B = mi.params['theta_A'].value, mi.params['theta_B'].value\n",
    "\n",
    "    if np.abs(new_theta_A - theta_A) < 1e-7 and np.abs(new_theta_B - theta_B) < 1e-7:\n",
    "        break\n",
    "    \n",
    "    theta_A, theta_B = new_theta_A, new_theta_B\n",
    "\n",
    "    step += 1\n",
    "\n",
    "print (q)\n",
    "print (\"total_steps: \", step)\n",
    "print (theta_A, theta_B)"
   ]
  },
  {
   "cell_type": "code",
   "execution_count": null,
   "metadata": {},
   "outputs": [],
   "source": []
  }
 ],
 "metadata": {
  "kernelspec": {
   "display_name": "mphil",
   "language": "python",
   "name": "python3"
  },
  "language_info": {
   "codemirror_mode": {
    "name": "ipython",
    "version": 3
   },
   "file_extension": ".py",
   "mimetype": "text/x-python",
   "name": "python",
   "nbconvert_exporter": "python",
   "pygments_lexer": "ipython3",
   "version": "3.9.18"
  }
 },
 "nbformat": 4,
 "nbformat_minor": 2
}
