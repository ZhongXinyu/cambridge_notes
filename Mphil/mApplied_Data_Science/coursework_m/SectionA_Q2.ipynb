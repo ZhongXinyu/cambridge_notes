{
 "cells": [
  {
   "cell_type": "markdown",
   "metadata": {},
   "source": [
    "Dataset B: Missing Labels and Duplicated Observations"
   ]
  },
  {
   "cell_type": "markdown",
   "metadata": {},
   "source": [
    "(a) Summarise the frequency of the labels in the dataset, and display this\n",
    "information as a table in your report."
   ]
  },
  {
   "cell_type": "code",
   "execution_count": 4,
   "metadata": {},
   "outputs": [],
   "source": [
    "import numpy as np\n",
    "import pandas as pd\n",
    "import seaborn as sns\n",
    "import matplotlib.pyplot as plt"
   ]
  },
  {
   "cell_type": "code",
   "execution_count": 7,
   "metadata": {},
   "outputs": [
    {
     "name": "stdout",
     "output_type": "stream",
     "text": [
      "     Fea1      Fea2  Fea3  Fea4      Fea5  Fea6      Fea7      Fea8  Fea9  \\\n",
      "0     0.0  0.000000   0.0   0.0  3.091042   0.0  1.609438  0.000000   0.0   \n",
      "1     0.0  0.000000   0.0   0.0  4.615121   0.0  0.000000  0.000000   0.0   \n",
      "2     0.0  0.000000   0.0   0.0  2.079442   0.0  0.000000  0.000000   0.0   \n",
      "3     0.0  0.000000   0.0   0.0  4.369448   0.0  0.000000  0.000000   0.0   \n",
      "4     0.0  0.000000   0.0   0.0  4.615121   0.0  0.000000  0.000000   0.0   \n",
      "..    ...       ...   ...   ...       ...   ...       ...       ...   ...   \n",
      "423   0.0  0.000000   0.0   0.0  4.574711   0.0  0.000000  0.000000   0.0   \n",
      "424   0.0  0.693147   0.0   0.0  4.521789   0.0  0.693147  1.386294   0.0   \n",
      "425   0.0  0.000000   0.0   0.0  3.044522   0.0  0.000000  0.000000   0.0   \n",
      "426   0.0  0.000000   0.0   0.0  4.262680   0.0  0.000000  1.386294   0.0   \n",
      "427   0.0  0.000000   0.0   0.0  4.709530   0.0  1.098612  1.098612   0.0   \n",
      "\n",
      "        Fea10  ...    Fea492    Fea493    Fea494    Fea495  Fea496  Fea497  \\\n",
      "0    0.000000  ...  0.000000  0.000000  0.000000  0.000000     0.0     0.0   \n",
      "1    0.000000  ...  0.000000  0.000000  0.000000  2.639057     0.0     0.0   \n",
      "2    0.000000  ...  0.000000  0.000000  0.000000  4.317488     0.0     0.0   \n",
      "3    0.693147  ...  0.000000  0.693147  0.000000  4.762174     0.0     0.0   \n",
      "4    0.000000  ...  2.397895  0.000000  0.000000  2.484907     0.0     0.0   \n",
      "..        ...  ...       ...       ...       ...       ...     ...     ...   \n",
      "423  0.000000  ...  0.000000  0.693147  2.833213  0.000000     0.0     0.0   \n",
      "424  0.000000  ...  2.302585  0.693147  0.000000  3.828641     0.0     0.0   \n",
      "425  0.000000  ...  0.000000  0.000000  0.000000  4.007333     0.0     0.0   \n",
      "426  0.000000  ...  0.000000  0.693147  0.000000  4.043051     0.0     0.0   \n",
      "427  0.000000  ...  0.000000  0.000000  0.000000  2.302585     0.0     0.0   \n",
      "\n",
      "     Fea498  Fea499    Fea500  classification  \n",
      "0       0.0     0.0  0.000000             NaN  \n",
      "1       0.0     0.0  2.197225             NaN  \n",
      "2       0.0     0.0  0.000000             NaN  \n",
      "3       0.0     0.0  1.791759             NaN  \n",
      "4       0.0     0.0  0.000000             NaN  \n",
      "..      ...     ...       ...             ...  \n",
      "423     0.0     0.0  0.000000             1.0  \n",
      "424     0.0     0.0  0.000000             4.0  \n",
      "425     0.0     0.0  2.564949             2.0  \n",
      "426     0.0     0.0  2.833213             2.0  \n",
      "427     0.0     0.0  1.386294             4.0  \n",
      "\n",
      "[428 rows x 501 columns]\n"
     ]
    }
   ],
   "source": [
    "# read data from csv file into pandas dataframe\n",
    "data = pd.DataFrame()\n",
    "with open('data/B_Relabelled.csv', 'r') as f:\n",
    "    data = pd.read_csv(f)\n",
    "    data.drop(['Unnamed: 0'], axis=1, inplace=True)\n",
    "f.close()\n",
    "print (data)"
   ]
  },
  {
   "cell_type": "code",
   "execution_count": null,
   "metadata": {},
   "outputs": [],
   "source": []
  }
 ],
 "metadata": {
  "kernelspec": {
   "display_name": "mphil",
   "language": "python",
   "name": "python3"
  },
  "language_info": {
   "codemirror_mode": {
    "name": "ipython",
    "version": 3
   },
   "file_extension": ".py",
   "mimetype": "text/x-python",
   "name": "python",
   "nbconvert_exporter": "python",
   "pygments_lexer": "ipython3",
   "version": "3.9.18"
  }
 },
 "nbformat": 4,
 "nbformat_minor": 2
}
