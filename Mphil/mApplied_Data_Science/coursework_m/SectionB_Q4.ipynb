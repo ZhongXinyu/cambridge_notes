{
 "cells": [
  {
   "cell_type": "markdown",
   "metadata": {},
   "source": [
    "(a) Briefly describe the differences between a decision tree, bagging and a random\n",
    "forest (for classification). Describe one criterion you can use to measure the\n",
    "quality of a split within a classification tree. Identify two hyperparameters of a\n",
    "single tree within a random forest, and relate one of these to a heuristic involving\n",
    "the number of features.\n"
   ]
  },
  {
   "cell_type": "code",
   "execution_count": 2,
   "metadata": {},
   "outputs": [],
   "source": [
    "# A decision tree cls\n",
    "# bagging \n",
    "\n",
    "# One criteria to measure the quality of a split is the Gini impurity\n",
    "# Describe:\n",
    "# Tow paramters of a decision tree: max_depth and min_samples_split\n",
    "# which one involves the number of features?"
   ]
  },
  {
   "cell_type": "markdown",
   "metadata": {},
   "source": [
    "(b) Pre-process and filter the data in preparation for the classifier. In your report,\n",
    "explain how you have pre-processed the data and justify any steps you have taken."
   ]
  },
  {
   "cell_type": "code",
   "execution_count": 4,
   "metadata": {},
   "outputs": [],
   "source": [
    "import numpy as np\n",
    "import pandas as pd\n",
    "import seaborn as sns\n",
    "import matplotlib.pyplot as plt"
   ]
  },
  {
   "cell_type": "code",
   "execution_count": 7,
   "metadata": {},
   "outputs": [
    {
     "name": "stdout",
     "output_type": "stream",
     "text": [
      "     Fea1      Fea2  Fea3  Fea4      Fea5  Fea6      Fea7  Fea8      Fea9  \\\n",
      "0     0.0  1.386294   0.0   0.0  2.639057   0.0  2.944439   0.0  1.098612   \n",
      "1     0.0  0.693147   0.0   0.0  1.791759   0.0  2.833213   0.0  0.000000   \n",
      "2     0.0  3.891820   0.0   0.0  3.367296   0.0  2.833213   0.0  0.000000   \n",
      "3     0.0  3.828641   0.0   0.0  0.000000   0.0  1.945910   0.0  3.401197   \n",
      "4     0.0  3.258097   0.0   0.0  1.098612   0.0  2.397895   0.0  0.000000   \n",
      "..    ...       ...   ...   ...       ...   ...       ...   ...       ...   \n",
      "495   0.0  0.000000   0.0   0.0  0.000000   0.0  3.258097   0.0  0.000000   \n",
      "496   0.0  3.663562   0.0   0.0  1.386294   0.0  0.000000   0.0  0.000000   \n",
      "497   0.0  4.499810   0.0   0.0  0.000000   0.0  0.000000   0.0  0.000000   \n",
      "498   0.0  0.000000   0.0   0.0  0.000000   0.0  0.000000   0.0  0.000000   \n",
      "499   0.0  3.761200   0.0   0.0  2.197225   0.0  2.302585   0.0  1.609438   \n",
      "\n",
      "     Fea10  ...    Fea992  Fea993    Fea994  Fea995    Fea996    Fea997  \\\n",
      "0      0.0  ...  2.302585     0.0  1.098612     0.0  0.000000  0.000000   \n",
      "1      0.0  ...  0.000000     0.0  0.000000     0.0  0.000000  2.484907   \n",
      "2      0.0  ...  2.302585     0.0  0.000000     0.0  0.000000  3.526361   \n",
      "3      0.0  ...  0.000000     0.0  2.079442     0.0  1.945910  1.791759   \n",
      "4      0.0  ...  0.000000     0.0  0.000000     0.0  1.945910  1.098612   \n",
      "..     ...  ...       ...     ...       ...     ...       ...       ...   \n",
      "495    0.0  ...  0.000000     0.0  0.000000     0.0  0.693147  3.526361   \n",
      "496    0.0  ...  0.000000     0.0  0.000000     0.0  0.000000  2.833213   \n",
      "497    0.0  ...  0.000000     0.0  1.098612     0.0  0.000000  3.135494   \n",
      "498    0.0  ...  0.000000     0.0  0.000000     0.0  0.000000  0.000000   \n",
      "499    0.0  ...  1.386294     0.0  1.791759     0.0  0.000000  4.510860   \n",
      "\n",
      "       Fea998  Fea999   Fea1000  type  \n",
      "0    3.496508     0.0  0.000000     2  \n",
      "1    3.218876     0.0  0.000000     1  \n",
      "2    4.454347     0.0  2.484907     2  \n",
      "3    4.406719     0.0  2.772589     3  \n",
      "4    2.772589     0.0  1.945910     1  \n",
      "..        ...     ...       ...   ...  \n",
      "495  2.484907     0.0  0.000000     3  \n",
      "496  3.871201     0.0  0.000000     3  \n",
      "497  2.995732     0.0  1.386294     2  \n",
      "498  3.433987     0.0  2.397895     1  \n",
      "499  3.295837     0.0  0.000000     3  \n",
      "\n",
      "[500 rows x 1001 columns]\n",
      "(500, 1001)\n",
      "(500, 1001)\n"
     ]
    }
   ],
   "source": [
    "# read data from csv file into pandas dataframe\n",
    "data = pd.DataFrame()\n",
    "with open('data/ADS_baselineDataset.csv', 'r') as f:\n",
    "    data = pd.read_csv(f)\n",
    "    data.drop(['Unnamed: 0'], axis=1, inplace=True)\n",
    "f.close()\n",
    "print (data)\n",
    "print (data.shape)\n",
    "data.dropna()\n",
    "print (data.shape)"
   ]
  }
 ],
 "metadata": {
  "kernelspec": {
   "display_name": "mphil",
   "language": "python",
   "name": "python3"
  },
  "language_info": {
   "codemirror_mode": {
    "name": "ipython",
    "version": 3
   },
   "file_extension": ".py",
   "mimetype": "text/x-python",
   "name": "python",
   "nbconvert_exporter": "python",
   "pygments_lexer": "ipython3",
   "version": "3.9.18"
  }
 },
 "nbformat": 4,
 "nbformat_minor": 2
}
