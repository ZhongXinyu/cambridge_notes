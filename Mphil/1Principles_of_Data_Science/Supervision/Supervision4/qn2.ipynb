{
 "cells": [
  {
   "cell_type": "markdown",
   "metadata": {},
   "source": [
    "2. Assume the standard example of fitting a small peaking signal on top of a large smoothly falling background. Show that if the true background distribution is of the form $y=x^{-a}$ then the signal yield estimate using a MLE approach will be biased (and have the incorrect coverage) if one assumes the background is distributed as $y=e^{-x}$."
   ]
  }
 ],
 "metadata": {
  "kernelspec": {
   "display_name": "mphil",
   "language": "python",
   "name": "python3"
  },
  "language_info": {
   "name": "python",
   "version": "3.9.18"
  }
 },
 "nbformat": 4,
 "nbformat_minor": 2
}
