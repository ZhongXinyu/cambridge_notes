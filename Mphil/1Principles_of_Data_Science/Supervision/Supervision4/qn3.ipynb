{
 "cells": [
  {
   "cell_type": "markdown",
   "metadata": {},
   "source": [
    "3. The Brookhaven AGS experiment measured the relative decay angle between opposite sign pions produced from a beam of neutral long lived kaons, $K_{\\mathrm{L}}^0$. Typically $K_{\\mathrm{L}}^0$ mesons will decay into three pions $\\left(\\pi^{ \\pm}, \\pi^{-}, \\pi^0\\right)$, thus the distribution of the decay angle between the charged pair will be flat. The experiment was searching for two pion decays of the $K_{\\mathrm{L}}^0$ meson, in which case the decay angle between the charged pair is $\\pi$."
   ]
  }
 ],
 "metadata": {
  "kernelspec": {
   "display_name": "mphil",
   "language": "python",
   "name": "python3"
  },
  "language_info": {
   "codemirror_mode": {
    "name": "ipython",
    "version": 3
   },
   "file_extension": ".py",
   "mimetype": "text/x-python",
   "name": "python",
   "nbconvert_exporter": "python",
   "pygments_lexer": "ipython3",
   "version": "3.9.18"
  }
 },
 "nbformat": 4,
 "nbformat_minor": 2
}
