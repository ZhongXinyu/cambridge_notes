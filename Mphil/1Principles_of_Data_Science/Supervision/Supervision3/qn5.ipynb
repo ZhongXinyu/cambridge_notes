{
 "cells": [
  {
   "cell_type": "code",
   "execution_count": 119,
   "metadata": {},
   "outputs": [],
   "source": [
    "import numpy as np\n",
    "import seaborn as sns\n",
    "import matplotlib.pyplot as plt\n",
    "import math\n",
    "\n",
    "from scipy.stats import norm\n",
    "from scipy.stats import multivariate_normal\n",
    "\n",
    "from iminuit import Minuit\n",
    "from iminuit.cost import UnbinnedNLL\n"
   ]
  },
  {
   "cell_type": "code",
   "execution_count": 120,
   "metadata": {},
   "outputs": [],
   "source": [
    "size = 1000"
   ]
  },
  {
   "cell_type": "code",
   "execution_count": 121,
   "metadata": {},
   "outputs": [],
   "source": [
    "#Construct the model\n",
    "\n",
    "def coordinate_transform (data: np.array([[]])) -> np.array([[]]):\n",
    "    \"\"\"\n",
    "    Input: data in the form of [r, theta, phi]\n",
    "    Output: data in the form of [x+,x-,y+,y-]\n",
    "    \"\"\"\n",
    "    data_xy = []\n",
    "    for x in data: \n",
    "        data_xy.append([\n",
    "            x[0]*math.cos(x[1]+x[2]),\n",
    "            x[0]*math.cos(x[1]-x[2]),\n",
    "            x[0]*math.sin(x[1]+x[2]),\n",
    "            x[0]*math.sin(x[1]-x[2]),\n",
    "        ])\n",
    "    return np.array(data_xy)\n",
    "\n",
    "def model(x, mu, cov):\n",
    "    \"\"\"\n",
    "    Return the pdf of x(x+,x-,y+,y-) given a distribution in r space\n",
    "    \"\"\"\n",
    "    # randomly generate points in r space\n",
    "    data_r = np.random.multivariate_normal(mu, cov, size = 100000)\n",
    "    # transform the data to xy space\n",
    "    data_xy = coordinate_transform(data_r)\n",
    "    # find the mean\n",
    "    mu_x = np.mean(data_xy, axis = 0)\n",
    "    cov_x = np.cov(data_xy, rowvar = False)\n",
    "    print (mu_x, cov_x)\n",
    "    return multivariate_normal.pdf(x, mu_x, cov_x)"
   ]
  },
  {
   "cell_type": "code",
   "execution_count": 140,
   "metadata": {},
   "outputs": [
    {
     "name": "stdout",
     "output_type": "stream",
     "text": [
      "covaraince_Matrix in x_y space:\n",
      " [[67.24  -6.888 -3.362  6.806]\n",
      " [-6.888 70.56   6.888 -3.486]\n",
      " [-3.362  6.888 67.24   6.806]\n",
      " [ 6.806 -3.486  6.806 68.89 ]]\n"
     ]
    }
   ],
   "source": [
    "### Construct the mean and covariance matrix\n",
    "mean = np.array([-0.93,-1.3,5.7,6.5])\n",
    "std = np.array([8.2, 8.4, 8.2, 8.3])\n",
    "corr = np.array([[1, -0.1, -0.05, 0.1],\n",
    "        [-0.1, 1, 0.1, -0.05],\n",
    "        [-0.05, 0.1, 1, 0.1],\n",
    "        [0.1, -0.05, 0.1, 1]])\n",
    "\n",
    "cov = np.array([[corr[i, j] * std[i] * std[j] for i in range (0,4)] for j in range (0,4)])\n",
    "print (\"covaraince_Matrix in x_y space:\\n\", cov)\n"
   ]
  },
  {
   "cell_type": "code",
   "execution_count": 131,
   "metadata": {},
   "outputs": [
    {
     "name": "stdout",
     "output_type": "stream",
     "text": [
      "[[ -4.33646489   7.92730283  -3.94288802   4.16771799]\n",
      " [ 10.85904394  -6.00920589   6.0646319    0.22017544]\n",
      " [ -5.87289264  -9.42360022   6.99935419   2.81932443]\n",
      " ...\n",
      " [ -5.7611007   -1.02008086  19.10014035   9.59197131]\n",
      " [ -5.06838052 -11.60259794  14.31460686  16.02479242]\n",
      " [ 11.64847025  -0.70130865   8.90406135  11.11685647]]\n"
     ]
    }
   ],
   "source": [
    "# generate the data\n",
    "dset = np.random.multivariate_normal(mean, cov, size=size)\n",
    "print (dset)"
   ]
  },
  {
   "cell_type": "code",
   "execution_count": 132,
   "metadata": {},
   "outputs": [
    {
     "name": "stdout",
     "output_type": "stream",
     "text": [
      "[[  2.88530452  -3.32735939   3.2372744    2.78093639]\n",
      " [ 10.84236849   9.56831645   0.60156543   5.1347985 ]\n",
      " [  4.425534     4.43461564   3.86076635  -3.85033143]\n",
      " ...\n",
      " [ -4.13797473  -1.70324286   4.00842194   5.50356658]\n",
      " [  4.60786342  -3.58723412  -2.11094193   3.58053522]\n",
      " [ -3.98078463 -11.45903732  10.94715547   2.09220528]]\n"
     ]
    }
   ],
   "source": [
    "# convert the data in r_space\n",
    "dset_r = coordinate_transform(dset)\n",
    "print (dset_r)"
   ]
  },
  {
   "cell_type": "code",
   "execution_count": 136,
   "metadata": {},
   "outputs": [],
   "source": [
    "# make the cost function, in this case the\n",
    " # negative log likelihood\n",
    "nll = UnbinnedNLL(dset , model)\n"
   ]
  },
  {
   "cell_type": "code",
   "execution_count": 168,
   "metadata": {},
   "outputs": [
    {
     "name": "stdout",
     "output_type": "stream",
     "text": [
      "[0 0 0] [[1 0 0]\n",
      " [0 1 0]\n",
      " [0 0 1]]\n"
     ]
    },
    {
     "ename": "RuntimeError",
     "evalue": "N is not one of the parameters [mu cov]",
     "output_type": "error",
     "traceback": [
      "\u001b[0;31m---------------------------------------------------------------------------\u001b[0m",
      "\u001b[0;31mRuntimeError\u001b[0m                              Traceback (most recent call last)",
      "\u001b[1;32m/Users/zhongjunbao/Documents/Cambridge_Notes/Mphil/mPrinciples_of_Data_Science/Supervision/Supervision3/qn5.ipynb Cell 8\u001b[0m line \u001b[0;36m5\n\u001b[1;32m      <a href='vscode-notebook-cell:/Users/zhongjunbao/Documents/Cambridge_Notes/Mphil/mPrinciples_of_Data_Science/Supervision/Supervision3/qn5.ipynb#X14sZmlsZQ%3D%3D?line=2'>3</a>\u001b[0m \u001b[39m# s\u001b[39;00m\n\u001b[1;32m      <a href='vscode-notebook-cell:/Users/zhongjunbao/Documents/Cambridge_Notes/Mphil/mPrinciples_of_Data_Science/Supervision/Supervision3/qn5.ipynb#X14sZmlsZQ%3D%3D?line=3'>4</a>\u001b[0m \u001b[39mprint\u001b[39m (mean_r_guess, cov_r_guess)\n\u001b[0;32m----> <a href='vscode-notebook-cell:/Users/zhongjunbao/Documents/Cambridge_Notes/Mphil/mPrinciples_of_Data_Science/Supervision/Supervision3/qn5.ipynb#X14sZmlsZQ%3D%3D?line=4'>5</a>\u001b[0m mi \u001b[39m=\u001b[39m Minuit(nll,N\u001b[39m=\u001b[39;49m \u001b[39m100\u001b[39;49m, mu \u001b[39m=\u001b[39;49m mean_r_guess, cov \u001b[39m=\u001b[39;49m cov_r_guess) \u001b[39m# pass in mu and cov in r space\u001b[39;00m\n",
      "File \u001b[0;32m~/Library/Python/3.8/lib/python/site-packages/iminuit/minuit.py:647\u001b[0m, in \u001b[0;36mMinuit.__init__\u001b[0;34m(***failed resolving arguments***)\u001b[0m\n\u001b[1;32m    639\u001b[0m \u001b[39mself\u001b[39m\u001b[39m.\u001b[39m_strategy \u001b[39m=\u001b[39m MnStrategy(\u001b[39m1\u001b[39m)\n\u001b[1;32m    640\u001b[0m \u001b[39mself\u001b[39m\u001b[39m.\u001b[39m_fcn \u001b[39m=\u001b[39m FCN(\n\u001b[1;32m    641\u001b[0m     fcn,\n\u001b[1;32m    642\u001b[0m     \u001b[39mgetattr\u001b[39m(fcn, \u001b[39m\"\u001b[39m\u001b[39mgrad\u001b[39m\u001b[39m\"\u001b[39m, grad),\n\u001b[1;32m    643\u001b[0m     array_call,\n\u001b[1;32m    644\u001b[0m     \u001b[39mgetattr\u001b[39m(fcn, \u001b[39m\"\u001b[39m\u001b[39merrordef\u001b[39m\u001b[39m\"\u001b[39m, \u001b[39m1.0\u001b[39m),\n\u001b[1;32m    645\u001b[0m )\n\u001b[0;32m--> 647\u001b[0m \u001b[39mself\u001b[39m\u001b[39m.\u001b[39m_init_state \u001b[39m=\u001b[39m _make_init_state(\u001b[39mself\u001b[39;49m\u001b[39m.\u001b[39;49m_pos2var, start, kwds)\n\u001b[1;32m    648\u001b[0m \u001b[39mself\u001b[39m\u001b[39m.\u001b[39m_values \u001b[39m=\u001b[39m mutil\u001b[39m.\u001b[39mValueView(\u001b[39mself\u001b[39m)\n\u001b[1;32m    649\u001b[0m \u001b[39mself\u001b[39m\u001b[39m.\u001b[39m_errors \u001b[39m=\u001b[39m mutil\u001b[39m.\u001b[39mErrorView(\u001b[39mself\u001b[39m)\n",
      "File \u001b[0;32m~/Library/Python/3.8/lib/python/site-packages/iminuit/minuit.py:2685\u001b[0m, in \u001b[0;36m_make_init_state\u001b[0;34m(pos2var, args, kwds)\u001b[0m\n\u001b[1;32m   2683\u001b[0m     \u001b[39mfor\u001b[39;00m kw \u001b[39min\u001b[39;00m kwds:\n\u001b[1;32m   2684\u001b[0m         \u001b[39mif\u001b[39;00m kw \u001b[39mnot\u001b[39;00m \u001b[39min\u001b[39;00m pos2var:\n\u001b[0;32m-> 2685\u001b[0m             \u001b[39mraise\u001b[39;00m \u001b[39mRuntimeError\u001b[39;00m(\n\u001b[1;32m   2686\u001b[0m                 \u001b[39mf\u001b[39m\u001b[39m\"\u001b[39m\u001b[39m{\u001b[39;00mkw\u001b[39m}\u001b[39;00m\u001b[39m is not one of the parameters [\u001b[39m\u001b[39m{\u001b[39;00m\u001b[39m'\u001b[39m\u001b[39m \u001b[39m\u001b[39m'\u001b[39m\u001b[39m.\u001b[39mjoin(pos2var)\u001b[39m}\u001b[39;00m\u001b[39m]\u001b[39m\u001b[39m\"\u001b[39m\n\u001b[1;32m   2687\u001b[0m             )\n\u001b[1;32m   2688\u001b[0m     nargs \u001b[39m=\u001b[39m \u001b[39mlen\u001b[39m(kwds)\n\u001b[1;32m   2690\u001b[0m \u001b[39mif\u001b[39;00m \u001b[39mlen\u001b[39m(pos2var) \u001b[39m!=\u001b[39m nargs:\n",
      "\u001b[0;31mRuntimeError\u001b[0m: N is not one of the parameters [mu cov]"
     ]
    }
   ],
   "source": [
    "mean_r_guess = np.array([0,0,0])\n",
    "cov_r_guess = np.array([[1,0,0],[0,1,0],[0,0,1]])\n",
    "# s\n",
    "print (mean_r_guess, cov_r_guess)\n",
    "mi = Minuit(nll, N= 100, mu = mean_r_guess, cov = cov_r_guess) # pass in mu and cov in r space"
   ]
  },
  {
   "cell_type": "code",
   "execution_count": 166,
   "metadata": {},
   "outputs": [
    {
     "ename": "ValueError",
     "evalue": "mean must be 1 dimensional",
     "output_type": "error",
     "traceback": [
      "\u001b[0;31m---------------------------------------------------------------------------\u001b[0m",
      "\u001b[0;31mValueError\u001b[0m                                Traceback (most recent call last)",
      "\u001b[1;32m/Users/zhongjunbao/Documents/Cambridge_Notes/Mphil/mPrinciples_of_Data_Science/Supervision/Supervision3/qn5.ipynb Cell 9\u001b[0m line \u001b[0;36m1\n\u001b[0;32m----> <a href='vscode-notebook-cell:/Users/zhongjunbao/Documents/Cambridge_Notes/Mphil/mPrinciples_of_Data_Science/Supervision/Supervision3/qn5.ipynb#X15sZmlsZQ%3D%3D?line=0'>1</a>\u001b[0m mi\u001b[39m.\u001b[39;49mmigrad()\n",
      "File \u001b[0;32m~/Library/Python/3.8/lib/python/site-packages/iminuit/minuit.py:756\u001b[0m, in \u001b[0;36mMinuit.migrad\u001b[0;34m(self, ncall, iterate)\u001b[0m\n\u001b[1;32m    754\u001b[0m \u001b[39mif\u001b[39;00m \u001b[39mself\u001b[39m\u001b[39m.\u001b[39m_precision \u001b[39mis\u001b[39;00m \u001b[39mnot\u001b[39;00m \u001b[39mNone\u001b[39;00m:\n\u001b[1;32m    755\u001b[0m     migrad\u001b[39m.\u001b[39mprecision \u001b[39m=\u001b[39m \u001b[39mself\u001b[39m\u001b[39m.\u001b[39m_precision\n\u001b[0;32m--> 756\u001b[0m fm \u001b[39m=\u001b[39m migrad(ncall, \u001b[39mself\u001b[39;49m\u001b[39m.\u001b[39;49m_tolerance)\n\u001b[1;32m    757\u001b[0m \u001b[39mif\u001b[39;00m fm\u001b[39m.\u001b[39mis_valid \u001b[39mor\u001b[39;00m fm\u001b[39m.\u001b[39mhas_reached_call_limit:\n\u001b[1;32m    758\u001b[0m     \u001b[39mbreak\u001b[39;00m\n",
      "File \u001b[0;32m~/Library/Python/3.8/lib/python/site-packages/iminuit/cost.py:600\u001b[0m, in \u001b[0;36mCost.__call__\u001b[0;34m(self, *args)\u001b[0m\n\u001b[1;32m    585\u001b[0m \u001b[39mdef\u001b[39;00m \u001b[39m__call__\u001b[39m(\u001b[39mself\u001b[39m, \u001b[39m*\u001b[39margs: \u001b[39mfloat\u001b[39m) \u001b[39m-\u001b[39m\u001b[39m>\u001b[39m \u001b[39mfloat\u001b[39m:\n\u001b[1;32m    586\u001b[0m \u001b[39m    \u001b[39m\u001b[39m\"\"\"\u001b[39;00m\n\u001b[1;32m    587\u001b[0m \u001b[39m    Evaluate the cost function.\u001b[39;00m\n\u001b[1;32m    588\u001b[0m \n\u001b[0;32m   (...)\u001b[0m\n\u001b[1;32m    598\u001b[0m \u001b[39m    float\u001b[39;00m\n\u001b[1;32m    599\u001b[0m \u001b[39m    \"\"\"\u001b[39;00m\n\u001b[0;32m--> 600\u001b[0m     r \u001b[39m=\u001b[39m \u001b[39mself\u001b[39;49m\u001b[39m.\u001b[39;49m_call(args)\n\u001b[1;32m    601\u001b[0m     \u001b[39mif\u001b[39;00m \u001b[39mself\u001b[39m\u001b[39m.\u001b[39mverbose \u001b[39m>\u001b[39m\u001b[39m=\u001b[39m \u001b[39m1\u001b[39m:\n\u001b[1;32m    602\u001b[0m         \u001b[39mprint\u001b[39m(args, \u001b[39m\"\u001b[39m\u001b[39m->\u001b[39m\u001b[39m\"\u001b[39m, r)\n",
      "File \u001b[0;32m~/Library/Python/3.8/lib/python/site-packages/iminuit/cost.py:941\u001b[0m, in \u001b[0;36mUnbinnedNLL._call\u001b[0;34m(self, args)\u001b[0m\n\u001b[1;32m    939\u001b[0m \u001b[39mdef\u001b[39;00m \u001b[39m_call\u001b[39m(\u001b[39mself\u001b[39m, args: Sequence[\u001b[39mfloat\u001b[39m]) \u001b[39m-\u001b[39m\u001b[39m>\u001b[39m \u001b[39mfloat\u001b[39m:\n\u001b[1;32m    940\u001b[0m     data \u001b[39m=\u001b[39m \u001b[39mself\u001b[39m\u001b[39m.\u001b[39m_masked\n\u001b[0;32m--> 941\u001b[0m     x \u001b[39m=\u001b[39m \u001b[39mself\u001b[39;49m\u001b[39m.\u001b[39;49m_model(data, \u001b[39m*\u001b[39;49margs)\n\u001b[1;32m    942\u001b[0m     x \u001b[39m=\u001b[39m _normalize_model_output(x)\n\u001b[1;32m    943\u001b[0m     \u001b[39mif\u001b[39;00m \u001b[39mself\u001b[39m\u001b[39m.\u001b[39m_log:\n",
      "\u001b[1;32m/Users/zhongjunbao/Documents/Cambridge_Notes/Mphil/mPrinciples_of_Data_Science/Supervision/Supervision3/qn5.ipynb Cell 9\u001b[0m line \u001b[0;36m2\n\u001b[1;32m     <a href='vscode-notebook-cell:/Users/zhongjunbao/Documents/Cambridge_Notes/Mphil/mPrinciples_of_Data_Science/Supervision/Supervision3/qn5.ipynb#X15sZmlsZQ%3D%3D?line=17'>18</a>\u001b[0m \u001b[39mdef\u001b[39;00m \u001b[39mmodel\u001b[39m(x, mu, cov):\n\u001b[1;32m     <a href='vscode-notebook-cell:/Users/zhongjunbao/Documents/Cambridge_Notes/Mphil/mPrinciples_of_Data_Science/Supervision/Supervision3/qn5.ipynb#X15sZmlsZQ%3D%3D?line=18'>19</a>\u001b[0m \u001b[39m    \u001b[39m\u001b[39m\"\"\"\u001b[39;00m\n\u001b[1;32m     <a href='vscode-notebook-cell:/Users/zhongjunbao/Documents/Cambridge_Notes/Mphil/mPrinciples_of_Data_Science/Supervision/Supervision3/qn5.ipynb#X15sZmlsZQ%3D%3D?line=19'>20</a>\u001b[0m \u001b[39m    Return the pdf of x(x+,x-,y+,y-) given a distribution in r space\u001b[39;00m\n\u001b[1;32m     <a href='vscode-notebook-cell:/Users/zhongjunbao/Documents/Cambridge_Notes/Mphil/mPrinciples_of_Data_Science/Supervision/Supervision3/qn5.ipynb#X15sZmlsZQ%3D%3D?line=20'>21</a>\u001b[0m \u001b[39m    \"\"\"\u001b[39;00m\n\u001b[0;32m---> <a href='vscode-notebook-cell:/Users/zhongjunbao/Documents/Cambridge_Notes/Mphil/mPrinciples_of_Data_Science/Supervision/Supervision3/qn5.ipynb#X15sZmlsZQ%3D%3D?line=21'>22</a>\u001b[0m     data_r \u001b[39m=\u001b[39m np\u001b[39m.\u001b[39;49mrandom\u001b[39m.\u001b[39;49mmultivariate_normal(mu, cov, size \u001b[39m=\u001b[39;49m \u001b[39m100000\u001b[39;49m)\n\u001b[1;32m     <a href='vscode-notebook-cell:/Users/zhongjunbao/Documents/Cambridge_Notes/Mphil/mPrinciples_of_Data_Science/Supervision/Supervision3/qn5.ipynb#X15sZmlsZQ%3D%3D?line=22'>23</a>\u001b[0m     \u001b[39m# transform the data to xy space\u001b[39;00m\n\u001b[1;32m     <a href='vscode-notebook-cell:/Users/zhongjunbao/Documents/Cambridge_Notes/Mphil/mPrinciples_of_Data_Science/Supervision/Supervision3/qn5.ipynb#X15sZmlsZQ%3D%3D?line=23'>24</a>\u001b[0m     data_xy \u001b[39m=\u001b[39m coordinate_transform(data_r)\n",
      "File \u001b[0;32mmtrand.pyx:4090\u001b[0m, in \u001b[0;36mnumpy.random.mtrand.RandomState.multivariate_normal\u001b[0;34m()\u001b[0m\n",
      "\u001b[0;31mValueError\u001b[0m: mean must be 1 dimensional"
     ]
    }
   ],
   "source": [
    "mi.migrad()"
   ]
  },
  {
   "cell_type": "code",
   "execution_count": null,
   "metadata": {},
   "outputs": [],
   "source": [
    "mi.hesse ()"
   ]
  }
 ],
 "metadata": {
  "kernelspec": {
   "display_name": "Python 3",
   "language": "python",
   "name": "python3"
  },
  "language_info": {
   "codemirror_mode": {
    "name": "ipython",
    "version": 3
   },
   "file_extension": ".py",
   "mimetype": "text/x-python",
   "name": "python",
   "nbconvert_exporter": "python",
   "pygments_lexer": "ipython3",
   "version": "3.8.2"
  }
 },
 "nbformat": 4,
 "nbformat_minor": 2
}
