{
 "cells": [
  {
   "cell_type": "code",
   "execution_count": 60,
   "metadata": {},
   "outputs": [],
   "source": [
    "import numpy as np\n",
    "import random\n",
    "import math\n",
    "import pandas as pd\n",
    "import seaborn as sns\n",
    "import matplotlib.pyplot as plt\n",
    "import scipy\n",
    "from scipy.optimize import minimize_scalar"
   ]
  },
  {
   "cell_type": "code",
   "execution_count": 61,
   "metadata": {},
   "outputs": [],
   "source": [
    "class Function:\n",
    "    def __init__(self, function, bounds):\n",
    "        self.function = function\n",
    "        self.bounds = bounds\n",
    "        self.maixmum = self.get_maximum()\n",
    "\n",
    "    import scipy.optimize\n",
    "    \n",
    "    def get_maximum(self):\n",
    "        return (scipy.optimize.minimize_scalar(lambda x: -1 * self.function(x), bounds=self.bounds, method='bounded').fun * -1)\n",
    "        # is there a better way to find maximum? "
   ]
  },
  {
   "cell_type": "markdown",
   "metadata": {},
   "source": [
    "1. Finish off the method of moments example we started in the lectures. Start from the probability distribution:\n",
    "\\begin{equation*}\n",
    "f(X ; \\alpha, \\beta)=N\\left(1+\\alpha x+\\beta x^2\\right) \\quad \\text { for } \\quad a \\leq x \\leq b\n",
    "\\end{equation*}\n",
    "(a) Show that the normalisation parameter $N$ can be written in the following form:\n",
    "\\begin{equation*}\n",
    "N=\\frac{1}{d_1+\\alpha d_2+\\beta d_3} \\quad \\text { where } \\quad d_k=\\frac{1}{k}\\left(b^k-a^k\\right)\n",
    "\\end{equation*}\n",
    "(b) There are two unknowns so let's take the first two central moments. Compute the expectation values of the first and second central moments.\n",
    "(c) Solve these two equations to express $\\alpha$ and $\\beta$ in terms of the expectations of the first and second central moments. The method of moments estimates $\\hat{\\alpha}$ and $\\hat{\\beta}$ can then be computed by plugging in the sample estimates of the first and second central moments."
   ]
  },
  {
   "cell_type": "code",
   "execution_count": 70,
   "metadata": {},
   "outputs": [
    {
     "name": "stdout",
     "output_type": "stream",
     "text": [
      "50.0\n"
     ]
    }
   ],
   "source": [
    "alpha = 0.8\n",
    "beta = 0.8\n",
    "a = 0\n",
    "b = 2\n",
    "\n",
    "d = lambda k: 1/k * (b**k - a**k)\n",
    "N = 1/(d(1) + alpha * d(2) + beta * d(3))\n",
    "print (d(2))\n",
    "\n",
    "fn = Function(lambda x: N*(1+alpha*x + beta*x**2), bounds = [a,b])\n",
    "\n"
   ]
  },
  {
   "cell_type": "code",
   "execution_count": 63,
   "metadata": {},
   "outputs": [
    {
     "name": "stdout",
     "output_type": "stream",
     "text": [
      "0.5387\n"
     ]
    }
   ],
   "source": [
    "number_of_interation = 100000\n",
    "data = pd.DataFrame()\n",
    "xmin = a\n",
    "xmax = b\n",
    "xlist = []\n",
    "count =0 \n",
    "for i in range (0,number_of_interation):\n",
    "    x = random.uniform(xmin, xmax)\n",
    "    y = random.uniform(0, fn.maixmum)\n",
    "    if fn.function(x) > fn.maixmum:\n",
    "        print(\"Error\")\n",
    "    if y <= fn.function(x):\n",
    "        xlist.append(x)\n",
    "        count += 1\n",
    "\n",
    "df = pd.DataFrame(xlist, columns=['x'])\n",
    "\n",
    "print (count/number_of_interation)\n",
    "    "
   ]
  },
  {
   "cell_type": "code",
   "execution_count": 64,
   "metadata": {},
   "outputs": [],
   "source": [
    "# data = np.load('mom_data.npy')\n",
    "# df = pd.DataFrame(data, columns=[\"x\"])\n",
    "\n",
    "# print (df)"
   ]
  },
  {
   "cell_type": "code",
   "execution_count": 65,
   "metadata": {},
   "outputs": [
    {
     "data": {
      "image/png": "[encoded data removed]",
      "text/plain": [
       "<Figure size 500x500 with 1 Axes>"
      ]
     },
     "metadata": {},
     "output_type": "display_data"
    }
   ],
   "source": [
    "sns.displot(df, x=\"x\", bins=20)\n",
    "plt.show()"
   ]
  },
  {
   "cell_type": "code",
   "execution_count": 66,
   "metadata": {},
   "outputs": [],
   "source": [
    "mu = df['x'].mean()\n",
    "sigma = df['x'].std()\n",
    "mu2 = sigma**2 + mu**2"
   ]
  },
  {
   "cell_type": "code",
   "execution_count": 69,
   "metadata": {},
   "outputs": [
    {
     "name": "stdout",
     "output_type": "stream",
     "text": [
      "[[0.20379224 0.71616743]\n",
      " [0.36195404 1.54927205]] \n",
      " [0.46287443 0.9713793 ]\n",
      "0.37954749518480924 0.5383176907418288\n",
      "0.51 0.5\n"
     ]
    }
   ],
   "source": [
    "matrix1 = np.array([[d(3) - mu * d(2), d(4) - mu*d(3)],\n",
    "                    [d(4) - mu2 * d(2), d(5) - mu2 * d(3)]])\n",
    "\n",
    "matrix2 = np.array([mu* d(1) -d(2), mu2 *d(1) - d(3)])\n",
    "\n",
    "print (matrix1, \"\\n\",  matrix2)\n",
    "\n",
    "[alpha_hat , beta_hat] = np.linalg.inv(matrix1)@ matrix2\n",
    "\n",
    "print (alpha_hat, beta_hat)\n",
    "\n",
    "print (alpha, beta)"
   ]
  },
  {
   "cell_type": "code",
   "execution_count": 59,
   "metadata": {},
   "outputs": [
    {
     "name": "stdout",
     "output_type": "stream",
     "text": [
      "[[5.54953920e-06 1.21652754e-05]\n",
      " [1.21652754e-05 3.45579369e-05]]\n"
     ]
    }
   ],
   "source": [
    "fn_estimate = Function(lambda x: N*(1+alpha_hat*x + beta_hat*x**2), bounds = [a,b])\n",
    "\n",
    "n = len(df[\"x\"])\n",
    "x_mean = np.mean(df[\"x\"])\n",
    "\n",
    "cov = np.array([[  1/n * 1/(n-1) * sum((x**a - x_mean)*(x**b - x_mean) for x in xlist) for a in(1,2)] for b in (1,2)])\n",
    "print (cov)\n"
   ]
  }
 ],
 "metadata": {
  "kernelspec": {
   "display_name": "Python 3",
   "language": "python",
   "name": "python3"
  },
  "language_info": {
   "codemirror_mode": {
    "name": "ipython",
    "version": 3
   },
   "file_extension": ".py",
   "mimetype": "text/x-python",
   "name": "python",
   "nbconvert_exporter": "python",
   "pygments_lexer": "ipython3",
   "version": "3.8.2"
  },
  "orig_nbformat": 4
 },
 "nbformat": 4,
 "nbformat_minor": 2
}
