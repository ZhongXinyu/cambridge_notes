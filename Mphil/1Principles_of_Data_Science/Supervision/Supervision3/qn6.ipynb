{
 "cells": [
  {
   "cell_type": "code",
   "execution_count": null,
   "metadata": {},
   "outputs": [],
   "source": [
    "6. Imagine a set of N counting experiments which all determine an estimated number of\n",
    "background, bi, an estimated number of signal, si, and observe di candidates in data.\n",
    "Write down a mathematical expression for (the most) powerful test-statistic in this\n",
    "case.\n"
   ]
  },
  {
   "cell_type": "markdown",
   "metadata": {},
   "source": [
    "\n",
    "$X=\\prod_i X_i=\\prod_i \\frac{e^{-\\left(s_i+b_i\\right)}\\left(s_i+b_i\\right)^{d_i}}{d_{i} !} / \\frac{e^{-b_i} b_i^{d_i}}{d_{i} !}$"
   ]
  }
 ],
 "metadata": {
  "kernelspec": {
   "display_name": "Python 3",
   "language": "python",
   "name": "python3"
  },
  "language_info": {
   "name": "python",
   "version": "3.8.2"
  }
 },
 "nbformat": 4,
 "nbformat_minor": 2
}
