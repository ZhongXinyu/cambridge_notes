{
 "cells": [
  {
   "cell_type": "markdown",
   "metadata": {},
   "source": [
    "#### 2. Show that the average deviation from the mean, rather than the squared deviation (i.e. the variance), is not a useful measure of the spread of a distribution. This may lead you to think a decent definition would be the absolute the deviation, can you think why we use the variance (squared deviation) rather than the absolute deviation?"
   ]
  },
  {
   "cell_type": "markdown",
   "metadata": {},
   "source": [
    "Average deviation from the mean $\\sum_{x=1}^N (x_i-\\bar{x}) = \\sum_{x=1}^N (x_i) - N\\bar{x} = 0$"
   ]
  },
  {
   "cell_type": "markdown",
   "metadata": {},
   "source": [
    "The reason why variance is favoured than absolute deviation is because of the differentiability. For example, in regression, we find the best fit line by minimising the variance, which is done by differentiate variance with respect to the parameters( i.e. $k$, $c$ in $y = kx + c$) we are finding."
   ]
  }
 ],
 "metadata": {
  "language_info": {
   "name": "python"
  },
  "orig_nbformat": 4
 },
 "nbformat": 4,
 "nbformat_minor": 2
}
