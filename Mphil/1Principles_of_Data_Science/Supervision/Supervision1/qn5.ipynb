{
 "cells": [
  {
   "cell_type": "markdown",
   "metadata": {},
   "source": [
    "#### 5. Imagine trying to “track” the path of some projectile using a set of cameras at fixed positions. You need at least three measurements of the projectile to accurately predict its motion (because it is accelerating). The “hit” efficiency for a single camera is 95% (in other words it will completely miss the projectile 5% of the time)."
   ]
  },
  {
   "cell_type": "markdown",
   "metadata": {},
   "source": [
    "#### (a) If we require a minimum of three hits, how efficient would the system be with three cameras?\n"
   ]
  },
  {
   "cell_type": "markdown",
   "metadata": {},
   "source": [
    "Let event $A$ be the probability of all cameras captures: $P(A) = 0.95^3 = 0.857$"
   ]
  },
  {
   "cell_type": "markdown",
   "metadata": {},
   "source": [
    "#### (b) Would having four or five give a significant improvement (once again requiring at least 3 hits)?"
   ]
  },
  {
   "cell_type": "markdown",
   "metadata": {},
   "source": [
    "Probability of at least 3 cameras hit is $1 - P(0;n) + P(1;n) + P(2;n)$\\\n",
    "where $ P(k;n) = C_n^k(p)^k (1-p)^{(n-k)}$\\\n",
    "Having 4 cameras,\n",
    "$ P(x>=3;4)= 1 - P(0,4) - P(1;4) - P(2,4)  = 0.986$\\\n",
    "Having 5 cameras,\n",
    "$ P(x>=3;5)= 1 - P(0,5) - P(1;5) - P(2,5)  = 0.999$\\\n",
    "There is a significant increase by adding to 4 cameras, adding more camera after that has diminishing utilities"
   ]
  },
  {
   "cell_type": "code",
   "execution_count": 1,
   "metadata": {},
   "outputs": [],
   "source": [
    "def factorial(n):\n",
    "    if n < 2: return 1\n",
    "    product = 1\n",
    "    for i in range (1,n+1):\n",
    "        product *= i\n",
    "    return product\n",
    "\n",
    "def P(k,n,p=0.95):\n",
    "    return factorial(n)/factorial(k)/factorial(n-k)*(p)**k *(1-p)**(n-k) "
   ]
  },
  {
   "cell_type": "code",
   "execution_count": 3,
   "metadata": {},
   "outputs": [
    {
     "name": "stdout",
     "output_type": "stream",
     "text": [
      "probability of successful capturing with 3 camera = 0.8573749999999998\n",
      "probability of successful capturing with 4 camera = 0.98598125\n",
      "probability of successful capturing with 5 camera = 0.998841875\n",
      "probability of successful capturing with 6 camera = 0.99991359375\n",
      "probability of successful capturing with 7 camera = 0.99999397265625\n",
      "probability of successful capturing with 8 camera = 0.9999995991796874\n",
      "probability of successful capturing with 9 camera = 0.99999997428125\n"
     ]
    }
   ],
   "source": [
    "for no_camera in range (3,10):\n",
    "    print (f\"probability of successful capturing with {no_camera} camera = {1-P(0,no_camera)-P(1,no_camera)-P(2,no_camera)}\")\n"
   ]
  }
 ],
 "metadata": {
  "kernelspec": {
   "display_name": "Python 3",
   "language": "python",
   "name": "python3"
  },
  "language_info": {
   "codemirror_mode": {
    "name": "ipython",
    "version": 3
   },
   "file_extension": ".py",
   "mimetype": "text/x-python",
   "name": "python",
   "nbconvert_exporter": "python",
   "pygments_lexer": "ipython3",
   "version": "3.8.2"
  },
  "orig_nbformat": 4
 },
 "nbformat": 4,
 "nbformat_minor": 2
}
