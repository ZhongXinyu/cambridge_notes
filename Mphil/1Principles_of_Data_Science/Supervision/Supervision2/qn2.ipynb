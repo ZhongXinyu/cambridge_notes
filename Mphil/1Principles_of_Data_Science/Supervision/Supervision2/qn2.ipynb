{
 "cells": [
  {
   "cell_type": "markdown",
   "metadata": {},
   "source": [
    "$$\n",
    "p(x \\cdot \\lambda) \\cdot \\lambda e^{-\\lambda x}\n",
    "$$\n",
    "\n",
    "Mean $\\mu: E(x)$\n",
    "$$\n",
    "=\\int \\lambda e^{-\\lambda x} \\cdot x d x\n",
    "$$\n",
    "let $y=\\lambda x, \\quad d y=\\lambda d x$\n",
    "$$\n",
    "\\begin{aligned}\n",
    "& =\\int_0^n \\frac{1}{\\lambda} y e^{-y} d y \\\\\n",
    "& =\\frac{1}{\\lambda}\\left(\\left[-y e^{-y}\\right]_0^{\\infty}-\\int_0^{\\infty}-e^{-y} d y\\right) \\\\\n",
    "& =\\frac{1}{\\lambda}\n",
    "\\end{aligned}\n",
    "$$\n",
    "\n",
    "Variance:\n",
    "$$\n",
    "\\begin{aligned}\n",
    "\\sigma^2 &= E\\left(x^2\\right)-E(x)^2 \\\\\n",
    "E(x^2) &= \\int_0^{\\infty} \\lambda e^{-\\lambda x} x^2 d x\\\\\n",
    "&=\\int \\frac{1}{\\lambda^2} y^2 e^{-y} d y \\\\\n",
    "& =2 \\frac{1}{\\lambda^2} \\\\\n",
    "\\sigma^2 & =2 \\frac{1}{\\lambda^2}-\\left(\\frac{1}{\\lambda}\\right)^2 \\\\\n",
    "& =\\frac{1}{\\lambda^2}\n",
    "\\end{aligned}\n",
    "$$"
   ]
  }
 ],
 "metadata": {
  "kernelspec": {
   "display_name": "Python 3",
   "language": "python",
   "name": "python3"
  },
  "language_info": {
   "name": "python",
   "version": "3.8.2"
  },
  "orig_nbformat": 4
 },
 "nbformat": 4,
 "nbformat_minor": 2
}
