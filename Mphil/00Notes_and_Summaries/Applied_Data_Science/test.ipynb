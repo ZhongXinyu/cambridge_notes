{
 "cells": [
  {
   "cell_type": "code",
   "execution_count": 90,
   "metadata": {},
   "outputs": [
    {
     "name": "stdout",
     "output_type": "stream",
     "text": [
      "   First  Second  Third\n",
      "0     37      28     21\n",
      "1     40       7     82\n",
      "2     72       1     16\n",
      "3     59      65     28\n",
      "4     65      27     26\n",
      "5      6      85     48\n",
      "6     11      13     67\n",
      "7      9      77     44\n",
      "8     17      84     46\n",
      "9     63      23     56\n"
     ]
    }
   ],
   "source": [
    "# generate a pandas dataframe of 3 columns and 10 rows with random numbers\n",
    "# between 0 and 100\n",
    "import pandas as pd\n",
    "import numpy as np\n",
    "\n",
    "df = pd.DataFrame(np.random.randint(0, 100, size=(10, 3)),\n",
    "                    columns=['First', 'Second', 'Third'])\n",
    "\n",
    "print(df)"
   ]
  },
  {
   "cell_type": "code",
   "execution_count": 91,
   "metadata": {},
   "outputs": [
    {
     "name": "stdout",
     "output_type": "stream",
     "text": [
      "StandardScaler()\n",
      "[37.9 41.  43.4]\n",
      "[[-0.03677024 -0.41345957 -1.1163222 ]\n",
      " [ 0.08579723 -1.0813558   1.92366235]\n",
      " [ 1.39318357 -1.27218329 -1.36550126]\n",
      " [ 0.86205787  0.76330998 -0.76747151]\n",
      " [ 1.10719281 -0.44526415 -0.86714313]\n",
      " [-1.30330076  1.39940162  0.22924474]\n",
      " [-1.09902164 -0.89052831  1.17612517]\n",
      " [-1.18073329  1.14496496  0.02990149]\n",
      " [-0.8538867   1.36759704  0.12957311]\n",
      " [ 1.02548116 -0.57248248  0.62793123]]\n"
     ]
    }
   ],
   "source": [
    "# use standard scaler\n",
    "df1 = df.copy()\n",
    "from sklearn.preprocessing import StandardScaler\n",
    "scaler = StandardScaler()\n",
    "print(scaler.fit(df1))\n",
    "print(scaler.mean_)\n",
    "print(scaler.transform(df1))"
   ]
  },
  {
   "cell_type": "code",
   "execution_count": 92,
   "metadata": {},
   "outputs": [
    {
     "name": "stdout",
     "output_type": "stream",
     "text": [
      "      First    Second     Third\n",
      "0 -0.034883 -0.392242 -1.059036\n",
      "1  0.081394 -1.025864  1.824946\n",
      "2  1.321690 -1.206899 -1.295428\n",
      "3  0.817820  0.724139 -0.728087\n",
      "4  1.050375 -0.422415 -0.822644\n",
      "5 -1.236420  1.327589  0.217481\n",
      "6 -1.042623 -0.844829  1.115770\n",
      "7 -1.120142  1.086209  0.028367\n",
      "8 -0.810068  1.297416  0.122924\n",
      "9  0.972857 -0.543105  0.595708\n"
     ]
    }
   ],
   "source": [
    "df2 = df.copy()\n",
    "for col in df.columns:\n",
    "    col_mean = df2[col].mean()\n",
    "    col_std = df2[col].std()\n",
    "    df2[col] = df2[col].apply(lambda x: (x - col_mean) / col_std)\n",
    "\n",
    "print (df2)"
   ]
  }
 ],
 "metadata": {
  "kernelspec": {
   "display_name": "Python 3",
   "language": "python",
   "name": "python3"
  },
  "language_info": {
   "codemirror_mode": {
    "name": "ipython",
    "version": 3
   },
   "file_extension": ".py",
   "mimetype": "text/x-python",
   "name": "python",
   "nbconvert_exporter": "python",
   "pygments_lexer": "ipython3",
   "version": "3.12.0"
  }
 },
 "nbformat": 4,
 "nbformat_minor": 2
}
